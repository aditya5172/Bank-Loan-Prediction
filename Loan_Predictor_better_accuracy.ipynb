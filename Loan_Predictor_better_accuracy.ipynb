{
  "cells": [
    {
      "cell_type": "markdown",
      "metadata": {
        "id": "view-in-github",
        "colab_type": "text"
      },
      "source": [
        "<a href=\"https://colab.research.google.com/github/aditya5172/Bank-Loan-Prediction/blob/main/Loan_Predictor_better_accuracy.ipynb\" target=\"_parent\"><img src=\"https://colab.research.google.com/assets/colab-badge.svg\" alt=\"Open In Colab\"/></a>"
      ]
    },
    {
      "cell_type": "code",
      "execution_count": 1,
      "metadata": {
        "id": "69lL7yeUk7Gf"
      },
      "outputs": [],
      "source": [
        "import numpy as np\n",
        "import pandas as pd\n",
        "import matplotlib.pyplot as plt\n",
        "import seaborn as sns\n",
        "sns.set()\n",
        "\n",
        "import joblib\n",
        "import xgboost as xgb"
      ]
    },
    {
      "cell_type": "code",
      "execution_count": 2,
      "metadata": {
        "id": "JRiWI7qHk7Gk"
      },
      "outputs": [],
      "source": [
        "from sklearn.model_selection import train_test_split\n",
        "from sklearn.compose import ColumnTransformer\n",
        "from sklearn.impute import SimpleImputer\n",
        "from sklearn.preprocessing import OneHotEncoder, LabelEncoder\n",
        "from sklearn.pipeline import Pipeline\n",
        "from sklearn.feature_selection import mutual_info_classif,SelectKBest,chi2,f_classif\n",
        "from sklearn.tree import DecisionTreeClassifier, plot_tree\n",
        "from sklearn.model_selection import cross_val_score, GridSearchCV, ParameterGrid\n",
        "from sklearn.metrics import make_scorer, accuracy_score, classification_report, confusion_matrix\n",
        "from sklearn.ensemble import AdaBoostClassifier,GradientBoostingClassifier"
      ]
    },
    {
      "cell_type": "code",
      "execution_count": 3,
      "metadata": {
        "id": "jdzeymNAk7Gl"
      },
      "outputs": [],
      "source": [
        "train=pd.read_csv('train.csv')\n",
        "test=pd.read_csv('test.csv')"
      ]
    },
    {
      "cell_type": "code",
      "execution_count": 4,
      "metadata": {
        "id": "iKX4RKyzk7G6"
      },
      "outputs": [],
      "source": [
        "from sklearn.utils import resample\n",
        "majority=train[(train['Loan_Status']=='Y')]\n",
        "minority=train[(train['Loan_Status']=='N')]\n",
        "\n",
        "y_minority_upsampled=resample(minority,\n",
        "                               replace=True,\n",
        "                               n_samples=len(majority),\n",
        "                               random_state=42)\n",
        "\n",
        "df_upsampled=pd.concat([y_minority_upsampled,majority])\n"
      ]
    },
    {
      "cell_type": "code",
      "execution_count": 5,
      "metadata": {
        "id": "aLD2wGijk7G7"
      },
      "outputs": [],
      "source": [
        "X=df_upsampled.drop(['Loan_ID','Loan_Status'],axis=1)\n",
        "y=df_upsampled['Loan_Status']\n",
        "\n",
        "X_train,X_test,y_train,y_test=train_test_split(X,y,test_size=0.3)"
      ]
    },
    {
      "cell_type": "code",
      "execution_count": 7,
      "metadata": {
        "id": "b6v_8yXpk7G7"
      },
      "outputs": [],
      "source": [
        "trf1=ColumnTransformer(transformers=[\n",
        "    ('b1',SimpleImputer(strategy='most_frequent'),[0,1,2,4,8,9]),\n",
        "    ('g1',SimpleImputer(strategy='median'),[7])\n",
        "    \n",
        "],remainder='passthrough')"
      ]
    },
    {
      "cell_type": "code",
      "execution_count": 8,
      "metadata": {
        "id": "4oomZ1TFk7G7"
      },
      "outputs": [],
      "source": [
        "X_train=trf1.fit_transform(X_train)"
      ]
    },
    {
      "cell_type": "code",
      "execution_count": 10,
      "metadata": {
        "id": "XE-_Yzytk7G8"
      },
      "outputs": [],
      "source": [
        "trf2=ColumnTransformer(transformers=[\n",
        "    ('a2',OneHotEncoder(sparse=False,handle_unknown='ignore'),[0,1,2,3,4,7,10]),\n",
        "],remainder='passthrough')"
      ]
    },
    {
      "cell_type": "code",
      "execution_count": 11,
      "metadata": {
        "id": "64GWFgvXk7G8"
      },
      "outputs": [],
      "source": [
        "X_train=trf2.fit_transform(X_train)"
      ]
    },
    {
      "cell_type": "code",
      "execution_count": 12,
      "metadata": {
        "colab": {
          "base_uri": "https://localhost:8080/",
          "height": 0
        },
        "id": "GQ87Bauxk7G8",
        "outputId": "5141a60d-edb9-44d6-ef99-fae70de827b0"
      },
      "outputs": [
        {
          "output_type": "stream",
          "name": "stderr",
          "text": [
            "/usr/local/lib/python3.8/dist-packages/sklearn/utils/deprecation.py:87: FutureWarning: Function get_feature_names is deprecated; get_feature_names is deprecated in 1.0 and will be removed in 1.2. Please use get_feature_names_out instead.\n",
            "  warnings.warn(msg, category=FutureWarning)\n"
          ]
        }
      ],
      "source": [
        "d={}\n",
        "x=X_train.T\n",
        "for i in range(0,len(trf2.get_feature_names())):\n",
        "    d[trf2.get_feature_names()[i]]=x[i]\n",
        "d=pd.DataFrame(d)"
      ]
    },
    {
      "cell_type": "code",
      "execution_count": 13,
      "metadata": {
        "id": "Ul-YsrFGk7G9"
      },
      "outputs": [],
      "source": [
        "X_test=trf1.transform(X_test)\n",
        "X_test=trf2.transform(X_test)"
      ]
    },
    {
      "cell_type": "code",
      "execution_count": 29,
      "metadata": {
        "id": "A_UADoxvk7G9"
      },
      "outputs": [],
      "source": [
        "from sklearn.feature_selection import SelectKBest\n",
        "from sklearn.feature_selection import mutual_info_classif\n",
        "\n",
        "def sk(ii):\n",
        "  xy={}\n",
        "  for i in range(len(X_train.T)):\n",
        "      xy[str(i)] = X_train.T[i]\n",
        "  xy=pd.DataFrame(xy)\n",
        "  sel_col=SelectKBest(mutual_info_classif,k=ii)\n",
        "  sel_col.fit(xy,y_train)\n",
        "  feature_selected_columns=xy.columns[sel_col.get_support()]\n",
        "  xyz={}\n",
        "  for i in range(len(X_test.T)):\n",
        "      xyz[str(i)] = X_test.T[i]\n",
        "  xyz=pd.DataFrame(xyz)\n",
        "  mutual_info = mutual_info_classif(xy,y_train)\n",
        "  mutual_info = pd.Series(mutual_info)\n",
        "  mutual_info.index=xy.columns\n",
        "  xy=xy[feature_selected_columns]\n",
        "  xyz=xyz[feature_selected_columns]\n",
        "  \n",
        "  return xy,xyz"
      ]
    },
    {
      "cell_type": "code",
      "execution_count": 34,
      "metadata": {
        "id": "NYn_UI5Zk7G9"
      },
      "outputs": [],
      "source": [
        "xy,xyz=sk(10)"
      ]
    },
    {
      "cell_type": "code",
      "execution_count": 33,
      "metadata": {
        "id": "mf8qHMlNk7G9"
      },
      "outputs": [],
      "source": [
        "from sklearn.model_selection import KFold, cross_val_score\n",
        "k_folds = KFold(n_splits = 5)"
      ]
    },
    {
      "cell_type": "code",
      "source": [],
      "metadata": {
        "id": "jMvUF_4indfJ"
      },
      "execution_count": null,
      "outputs": []
    },
    {
      "cell_type": "code",
      "source": [
        "from sklearn.metrics import f1_score"
      ],
      "metadata": {
        "id": "U7XX7YyGself"
      },
      "execution_count": 71,
      "outputs": []
    },
    {
      "cell_type": "code",
      "source": [
        "from sklearn import preprocessing\n",
        "\n",
        "label_encoder = preprocessing.LabelEncoder()\n",
        "\n",
        "y_train=label_encoder.fit_transform(y_train)\n",
        "y_test=label_encoder.fit_transform(y_test)"
      ],
      "metadata": {
        "id": "IgtjsBo92szu"
      },
      "execution_count": 150,
      "outputs": []
    },
    {
      "cell_type": "markdown",
      "metadata": {
        "id": "d6TK8ArZk7G-"
      },
      "source": [
        "# Full Tree"
      ]
    },
    {
      "cell_type": "code",
      "execution_count": 153,
      "metadata": {
        "id": "vt6ipc9ik7G_"
      },
      "outputs": [],
      "source": [
        "def tree(xy,xyz):\n",
        "  full_tree=DecisionTreeClassifier(random_state=42)\n",
        "  full_tree.fit(xy,y_train)\n",
        "  return f1_score(y_test,full_tree.predict(xyz))\n",
        "  "
      ]
    },
    {
      "cell_type": "markdown",
      "metadata": {
        "id": "6iBcptYBk7G_"
      },
      "source": [
        "# Post Purning"
      ]
    },
    {
      "cell_type": "code",
      "execution_count": 154,
      "metadata": {
        "id": "0QtkEp3Vk7G_"
      },
      "outputs": [],
      "source": [
        "def post_p(xy,xyz):\n",
        "  full_tree=DecisionTreeClassifier(random_state=42)\n",
        "  #full_tree.fit(xy,y_train)\n",
        "  ccp_alpha=full_tree.cost_complexity_pruning_path(xy,y_train)[\"ccp_alphas\"]\n",
        "  ccp_alpha_grid_search=GridSearchCV(\n",
        "      estimator=DecisionTreeClassifier(random_state=42),\n",
        "      scoring=make_scorer(accuracy_score),\n",
        "      param_grid=ParameterGrid({\"ccp_alpha\":[[alpha] for alpha in ccp_alpha]}),\n",
        "  )\n",
        "  ccp_alpha_grid_search.fit(xy,y_train)\n",
        "  best_ccp=ccp_alpha_grid_search.best_estimator_\n",
        "  return f1_score(y_test,best_ccp.predict(xyz)) #post purning\n",
        "  "
      ]
    },
    {
      "cell_type": "markdown",
      "metadata": {
        "id": "1M1lkHlok7HC"
      },
      "source": [
        "# Pre Purning Split"
      ]
    },
    {
      "cell_type": "code",
      "execution_count": 155,
      "metadata": {
        "id": "gPPkgeTjk7HC"
      },
      "outputs": [],
      "source": [
        "def pre_p_s(xy,xyz):\n",
        "  mini_samples_split_grid_search=GridSearchCV(\n",
        "                              estimator=DecisionTreeClassifier(random_state=42),\n",
        "      scoring=make_scorer(accuracy_score),\n",
        "      param_grid=ParameterGrid({\n",
        "          \"min_samples_split\":[\n",
        "              [m] for m in np.arange(0.0001,1,0.025)\n",
        "          ]\n",
        "      })\n",
        "  )\n",
        "  mini_samples_split_grid_search.fit(xy,y_train)\n",
        "  best_pre=mini_samples_split_grid_search.best_estimator_\n",
        "  return f1_score(y_test,best_pre.predict(xyz)) # pre purning split\n",
        "  "
      ]
    },
    {
      "cell_type": "code",
      "execution_count": 155,
      "metadata": {
        "id": "3CP52lzWk7HC"
      },
      "outputs": [],
      "source": []
    },
    {
      "cell_type": "markdown",
      "metadata": {
        "id": "J7z9amdCk7HE"
      },
      "source": [
        "# Pre purning leaf"
      ]
    },
    {
      "cell_type": "code",
      "execution_count": 156,
      "metadata": {
        "id": "yjPu5jPqk7HE"
      },
      "outputs": [],
      "source": [
        "def pre_p_l(xy,xyz):\n",
        "  mini_samples_leaf_grid_search=GridSearchCV(\n",
        "  estimator=DecisionTreeClassifier(random_state=42),\n",
        "      scoring=make_scorer(accuracy_score),\n",
        "      param_grid=ParameterGrid({\n",
        "          \"min_samples_leaf\":[\n",
        "              [m] for m in np.arange(0.0001,0.5,0.025)\n",
        "          ]\n",
        "      })\n",
        "  )\n",
        "  mini_samples_leaf_grid_search.fit(xy,y_train)\n",
        "  best_pre_leaf=mini_samples_leaf_grid_search.best_estimator_\n",
        "  return f1_score(y_test,best_pre_leaf.predict(xyz))  #pre purning leaf"
      ]
    },
    {
      "cell_type": "markdown",
      "metadata": {
        "id": "tqKImAA6k7HF"
      },
      "source": [
        "# Ada Boost"
      ]
    },
    {
      "cell_type": "code",
      "execution_count": 157,
      "metadata": {
        "id": "CjwgYtBfk7HG"
      },
      "outputs": [],
      "source": [
        " def ada(xy,xyz):\n",
        "  abc=AdaBoostClassifier(n_estimators=50,learning_rate=0.25,random_state=0)\n",
        "  abc.fit(xy,y_train)\n",
        "  return f1_score(y_test,abc.predict(xyz))"
      ]
    },
    {
      "cell_type": "markdown",
      "metadata": {
        "id": "kg6Fp0o_k7HH"
      },
      "source": [
        "# Gradient Boost"
      ]
    },
    {
      "cell_type": "code",
      "execution_count": 158,
      "metadata": {
        "id": "IExJngWTk7HH"
      },
      "outputs": [],
      "source": [
        "def grade(xy,xyz):\n",
        "  gradient_booster = GradientBoostingClassifier(learning_rate=0.30)\n",
        "  gradient_booster.fit(xy,y_train)\n",
        "  return f1_score(y_test,gradient_booster.predict(xyz))"
      ]
    },
    {
      "cell_type": "markdown",
      "metadata": {
        "id": "ztCe5BG9k7HI"
      },
      "source": [
        "# XGBoost"
      ]
    },
    {
      "cell_type": "code",
      "execution_count": 159,
      "metadata": {
        "id": "DqHKIROlk7HI"
      },
      "outputs": [],
      "source": [
        "from sklearn.model_selection import RandomizedSearchCV\n",
        "import xgboost \n",
        "def xgb(xy,xyz):\n",
        "  classifier=xgboost.XGBClassifier()#tree_method=\"gpu_hist\",enable_categorical=True)\n",
        "  model = xgboost.XGBClassifier( tree_method=\"hist\", enable_categorical=True)\n",
        "  yy=pd.get_dummies(y_train)\n",
        "  classifier.fit(xy.values,y_train)\n",
        "  y_pred=classifier.predict(xyz.values)\n",
        "  yy=pd.get_dummies(y_test)\n",
        "  return f1_score(y_test,y_pred)"
      ]
    },
    {
      "cell_type": "code",
      "source": [
        "def all():\n",
        "  xy,xyz=sk(5)\n",
        "  res={'Tree':0,'Post puring':0,'Pre Puring Leaf':0,\n",
        "       'Pre Puring Split':0,'Adaboost':0,\n",
        "       'Gradient Decent':0,'XGB':0}\n",
        "  res[\"Tree\"]=round(tree(xy,xyz)*100,2)\n",
        "  res[\"Post puring\"]=round(post_p(xy,xyz)*100,2)\n",
        "  res[\"Pre Puring Leaf\"]=round(pre_p_l(xy,xyz)*100,2)\n",
        "  res[\"Pre Puring Split\"]=round(pre_p_s(xy,xyz)*100,2)\n",
        "  res[\"Adaboost\"]=round(ada(xy,xyz)*100,2)\n",
        "  res[\"Gradient Decent\"]=round(grade(xy,xyz)*100,2)\n",
        "  res[\"XGB\"]=round(xgb(xy,xyz)*100,2)\n",
        "  return res"
      ],
      "metadata": {
        "id": "9xGJ7Pk3qVyM"
      },
      "execution_count": 191,
      "outputs": []
    },
    {
      "cell_type": "code",
      "source": [
        "res=all()"
      ],
      "metadata": {
        "id": "hcTQACdDqcEY"
      },
      "execution_count": 192,
      "outputs": []
    },
    {
      "cell_type": "code",
      "source": [
        "models = list(res.keys())\n",
        "f1 = list(res.values())\n",
        "fig = plt.figure(figsize =(15, 7))\n",
        "display(res)\n",
        "plt.bar(models, f1, color ='maroon',\n",
        "        width = 0.4)"
      ],
      "metadata": {
        "colab": {
          "base_uri": "https://localhost:8080/",
          "height": 570
        },
        "id": "2qTyhIgM4nm5",
        "outputId": "19021c39-44e4-4241-9199-2c8755e41f25"
      },
      "execution_count": 195,
      "outputs": [
        {
          "output_type": "display_data",
          "data": {
            "text/plain": [
              "{'Tree': 81.48,\n",
              " 'Post puring': 81.48,\n",
              " 'Pre Puring Leaf': 81.48,\n",
              " 'Pre Puring Split': 81.48,\n",
              " 'Adaboost': 77.03,\n",
              " 'Gradient Decent': 90.6,\n",
              " 'XGB': 81.48}"
            ]
          },
          "metadata": {}
        },
        {
          "output_type": "execute_result",
          "data": {
            "text/plain": [
              "<BarContainer object of 7 artists>"
            ]
          },
          "metadata": {},
          "execution_count": 195
        },
        {
          "output_type": "display_data",
          "data": {
            "text/plain": [
              "<Figure size 1080x504 with 1 Axes>"
            ],
            "image/png": "[encoded data removed]"
          },
          "metadata": {}
        }
      ]
    },
    {
      "cell_type": "code",
      "source": [
        "best_feature={}\n",
        "for i in range(1,30):\n",
        "  #best_feature={'1':0,'2':0,'3':0,'4':0,'5':0,'6':0,'7':0,'8':0,'9':0,'10':0,\n",
        "   #     '11':0,'12':0,'13':0,'14':0,'15':0,'16':0,'17':0,'18':0,'19':0,'20':0,\n",
        "   #     '21':0,'22':0,'23':0,'24':0,'25':0,'26':0,'27':0,'28':0,'29':0}\n",
        "  xy,xyz=sk(i)\n",
        "  best_feature[str(i)]=round(grade(xy,xyz)*100,2)\n",
        "  #print(i,grade(xy,xyz))"
      ],
      "metadata": {
        "id": "ClzWQX7wvBOG"
      },
      "execution_count": 207,
      "outputs": []
    },
    {
      "cell_type": "code",
      "source": [
        "models = list(best_feature.keys())\n",
        "f1 = list(best_feature.values())\n",
        "fig = plt.figure(figsize =(15, 7))\n",
        "display(sorted(best_feature.items(), key=lambda x:x[1],reverse = True))\n",
        "plt.bar(models, f1, color ='maroon',\n",
        "        width = 0.4)"
      ],
      "metadata": {
        "colab": {
          "base_uri": "https://localhost:8080/",
          "height": 952
        },
        "id": "0DWJxkFy9MJo",
        "outputId": "4d3bdb3e-9c31-4277-df3e-d6eb28ecdad8"
      },
      "execution_count": 208,
      "outputs": [
        {
          "output_type": "display_data",
          "data": {
            "text/plain": [
              "[('19', 91.53),\n",
              " ('9', 91.14),\n",
              " ('11', 90.3),\n",
              " ('17', 89.92),\n",
              " ('12', 89.83),\n",
              " ('23', 89.74),\n",
              " ('7', 89.45),\n",
              " ('15', 89.45),\n",
              " ('14', 89.36),\n",
              " ('21', 89.17),\n",
              " ('4', 88.98),\n",
              " ('25', 88.98),\n",
              " ('26', 88.51),\n",
              " ('27', 88.51),\n",
              " ('6', 88.41),\n",
              " ('24', 88.14),\n",
              " ('18', 87.93),\n",
              " ('13', 87.76),\n",
              " ('8', 87.72),\n",
              " ('22', 87.45),\n",
              " ('10', 86.81),\n",
              " ('20', 86.81),\n",
              " ('3', 86.58),\n",
              " ('28', 86.55),\n",
              " ('29', 86.55),\n",
              " ('16', 86.46),\n",
              " ('5', 85.84),\n",
              " ('2', 80.7),\n",
              " ('1', 74.61)]"
            ]
          },
          "metadata": {}
        },
        {
          "output_type": "execute_result",
          "data": {
            "text/plain": [
              "<BarContainer object of 29 artists>"
            ]
          },
          "metadata": {},
          "execution_count": 208
        },
        {
          "output_type": "display_data",
          "data": {
            "text/plain": [
              "<Figure size 1080x504 with 1 Axes>"
            ],
            "image/png": "[encoded data removed]"
          },
          "metadata": {}
        }
      ]
    },
    {
      "cell_type": "code",
      "execution_count": 140,
      "metadata": {
        "id": "7TOVlxmqk7HM"
      },
      "outputs": [],
      "source": [
        "x=test.drop(['Loan_ID'],axis=1)\n",
        "x=trf1.transform(x)\n",
        "x=trf2.transform(x)"
      ]
    },
    {
      "cell_type": "code",
      "execution_count": 141,
      "metadata": {
        "id": "blUJo5ick7HM"
      },
      "outputs": [],
      "source": [
        "xxy={}\n",
        "for i in range(len(x.T)):\n",
        "    xxy[str(i)]=list(x.T[i])\n",
        "xxy=pd.DataFrame(xxy)"
      ]
    },
    {
      "cell_type": "code",
      "execution_count": 144,
      "metadata": {
        "id": "4Hi0411Fk7HM"
      },
      "outputs": [],
      "source": [
        "xy,xyz=sk(12)\n",
        "xxy=xxy[xy.columns]"
      ]
    },
    {
      "cell_type": "code",
      "source": [
        "gradient_booster = GradientBoostingClassifier(learning_rate=0.30)\n",
        "gradient_booster.fit(xy,y_train)\n",
        "pp=gradient_booster.predict(xxy)"
      ],
      "metadata": {
        "id": "URoW2gJpyjR1"
      },
      "execution_count": 146,
      "outputs": []
    },
    {
      "cell_type": "code",
      "source": [
        "pp"
      ],
      "metadata": {
        "colab": {
          "base_uri": "https://localhost:8080/",
          "height": 0
        },
        "id": "x0ydk0SAzi4Z",
        "outputId": "4f3e1508-38b1-41df-faea-99967c1a2088"
      },
      "execution_count": 147,
      "outputs": [
        {
          "output_type": "execute_result",
          "data": {
            "text/plain": [
              "array(['Y', 'Y', 'Y', 'Y', 'N', 'Y', 'Y', 'N', 'Y', 'Y', 'Y', 'Y', 'Y',\n",
              "       'N', 'Y', 'Y', 'N', 'Y', 'Y', 'Y', 'Y', 'Y', 'Y', 'Y', 'N', 'N',\n",
              "       'Y', 'N', 'Y', 'Y', 'Y', 'Y', 'Y', 'Y', 'Y', 'N', 'Y', 'Y', 'Y',\n",
              "       'Y', 'Y', 'Y', 'Y', 'N', 'Y', 'Y', 'Y', 'Y', 'Y', 'N', 'Y', 'Y',\n",
              "       'Y', 'Y', 'Y', 'N', 'Y', 'Y', 'N', 'Y', 'Y', 'Y', 'Y', 'N', 'Y',\n",
              "       'Y', 'N', 'N', 'Y', 'N', 'Y', 'N', 'Y', 'Y', 'Y', 'Y', 'Y', 'Y',\n",
              "       'Y', 'Y', 'N', 'Y', 'N', 'N', 'N', 'Y', 'Y', 'Y', 'Y', 'Y', 'Y',\n",
              "       'Y', 'N', 'Y', 'N', 'Y', 'Y', 'Y', 'N', 'Y', 'Y', 'N', 'Y', 'Y',\n",
              "       'Y', 'Y', 'N', 'N', 'N', 'Y', 'Y', 'Y', 'Y', 'Y', 'Y', 'Y', 'N',\n",
              "       'N', 'N', 'N', 'N', 'Y', 'Y', 'Y', 'N', 'Y', 'N', 'Y', 'Y', 'Y',\n",
              "       'Y', 'Y', 'Y', 'Y', 'Y', 'Y', 'N', 'N', 'Y', 'Y', 'N', 'Y', 'N',\n",
              "       'N', 'Y', 'Y', 'Y', 'N', 'Y', 'Y', 'Y', 'Y', 'Y', 'N', 'Y', 'Y',\n",
              "       'Y', 'Y', 'N', 'N', 'Y', 'N', 'Y', 'N', 'Y', 'N', 'N', 'Y', 'N',\n",
              "       'Y', 'Y', 'Y', 'Y', 'N', 'N', 'Y', 'Y', 'N', 'Y', 'Y', 'Y', 'N',\n",
              "       'Y', 'Y', 'Y', 'Y', 'Y', 'Y', 'Y', 'Y', 'N', 'Y', 'N', 'N', 'Y',\n",
              "       'Y', 'N', 'Y', 'Y', 'Y', 'N', 'Y', 'Y', 'Y', 'Y', 'Y', 'Y', 'Y',\n",
              "       'N', 'N', 'N', 'Y', 'Y', 'Y', 'Y', 'Y', 'N', 'Y', 'Y', 'Y', 'Y',\n",
              "       'Y', 'Y', 'Y', 'N', 'Y', 'Y', 'Y', 'Y', 'N', 'Y', 'Y', 'Y', 'Y',\n",
              "       'Y', 'N', 'N', 'N', 'Y', 'N', 'Y', 'N', 'Y', 'Y', 'N', 'N', 'Y',\n",
              "       'Y', 'N', 'Y', 'N', 'Y', 'Y', 'Y', 'Y', 'N', 'Y', 'Y', 'Y', 'N',\n",
              "       'Y', 'Y', 'Y', 'N', 'Y', 'Y', 'N', 'Y', 'N', 'Y', 'Y', 'Y', 'N',\n",
              "       'N', 'N', 'Y', 'Y', 'Y', 'N', 'N', 'Y', 'Y', 'Y', 'N', 'N', 'Y',\n",
              "       'Y', 'Y', 'Y', 'Y', 'Y', 'Y', 'Y', 'N', 'Y', 'Y', 'Y', 'Y', 'Y',\n",
              "       'Y', 'Y', 'N', 'Y', 'Y', 'Y', 'N', 'Y', 'Y', 'Y', 'Y', 'Y', 'N',\n",
              "       'Y', 'Y', 'Y', 'Y', 'Y', 'N', 'Y', 'Y', 'Y', 'Y', 'Y', 'Y', 'Y',\n",
              "       'N', 'Y', 'Y', 'Y', 'Y', 'Y', 'Y', 'Y', 'N', 'Y', 'Y', 'Y', 'Y',\n",
              "       'Y', 'N', 'Y', 'Y', 'Y', 'Y', 'Y', 'N', 'N', 'Y', 'Y', 'Y', 'Y',\n",
              "       'N', 'Y', 'Y', 'Y', 'Y', 'Y', 'Y', 'Y', 'Y', 'Y', 'Y', 'Y', 'Y',\n",
              "       'Y', 'Y', 'Y'], dtype=object)"
            ]
          },
          "metadata": {},
          "execution_count": 147
        }
      ]
    },
    {
      "cell_type": "code",
      "execution_count": 148,
      "metadata": {
        "id": "YKZXMbETk7HN"
      },
      "outputs": [],
      "source": [
        "test['Loan Status Predicted']=0\n",
        "for i in test.index:\n",
        "  test.loc[i,'Loan Status Predicted']=pp[i]"
      ]
    },
    {
      "cell_type": "code",
      "execution_count": 149,
      "metadata": {
        "colab": {
          "base_uri": "https://localhost:8080/",
          "height": 322
        },
        "id": "0SioAeC1k7HN",
        "outputId": "dd6c453b-dcb8-42fa-c2e2-2fb21cba42d0"
      },
      "outputs": [
        {
          "output_type": "execute_result",
          "data": {
            "text/plain": [
              "    Loan_ID Gender Married Dependents     Education Self_Employed  \\\n",
              "0  LP001015   Male     Yes          0      Graduate            No   \n",
              "1  LP001022   Male     Yes          1      Graduate            No   \n",
              "2  LP001031   Male     Yes          2      Graduate            No   \n",
              "3  LP001035   Male     Yes          2      Graduate            No   \n",
              "4  LP001051   Male      No          0  Not Graduate            No   \n",
              "\n",
              "   ApplicantIncome  CoapplicantIncome  LoanAmount  Loan_Amount_Term  \\\n",
              "0             5720                  0       110.0             360.0   \n",
              "1             3076               1500       126.0             360.0   \n",
              "2             5000               1800       208.0             360.0   \n",
              "3             2340               2546       100.0             360.0   \n",
              "4             3276                  0        78.0             360.0   \n",
              "\n",
              "   Credit_History Property_Area Loan Status Predicted  \n",
              "0             1.0         Urban                     Y  \n",
              "1             1.0         Urban                     Y  \n",
              "2             1.0         Urban                     Y  \n",
              "3             NaN         Urban                     Y  \n",
              "4             1.0         Urban                     N  "
            ],
            "text/html": [
              "\n",
              "  <div id=\"df-0ef44ab2-ee40-4d5f-95a6-b36c06e8de3a\">\n",
              "    <div class=\"colab-df-container\">\n",
              "      <div>\n",
              "<style scoped>\n",
              "    .dataframe tbody tr th:only-of-type {\n",
              "        vertical-align: middle;\n",
              "    }\n",
              "\n",
              "    .dataframe tbody tr th {\n",
              "        vertical-align: top;\n",
              "    }\n",
              "\n",
              "    .dataframe thead th {\n",
              "        text-align: right;\n",
              "    }\n",
              "</style>\n",
              "<table border=\"1\" class=\"dataframe\">\n",
              "  <thead>\n",
              "    <tr style=\"text-align: right;\">\n",
              "      <th></th>\n",
              "      <th>Loan_ID</th>\n",
              "      <th>Gender</th>\n",
              "      <th>Married</th>\n",
              "      <th>Dependents</th>\n",
              "      <th>Education</th>\n",
              "      <th>Self_Employed</th>\n",
              "      <th>ApplicantIncome</th>\n",
              "      <th>CoapplicantIncome</th>\n",
              "      <th>LoanAmount</th>\n",
              "      <th>Loan_Amount_Term</th>\n",
              "      <th>Credit_History</th>\n",
              "      <th>Property_Area</th>\n",
              "      <th>Loan Status Predicted</th>\n",
              "    </tr>\n",
              "  </thead>\n",
              "  <tbody>\n",
              "    <tr>\n",
              "      <th>0</th>\n",
              "      <td>LP001015</td>\n",
              "      <td>Male</td>\n",
              "      <td>Yes</td>\n",
              "      <td>0</td>\n",
              "      <td>Graduate</td>\n",
              "      <td>No</td>\n",
              "      <td>5720</td>\n",
              "      <td>0</td>\n",
              "      <td>110.0</td>\n",
              "      <td>360.0</td>\n",
              "      <td>1.0</td>\n",
              "      <td>Urban</td>\n",
              "      <td>Y</td>\n",
              "    </tr>\n",
              "    <tr>\n",
              "      <th>1</th>\n",
              "      <td>LP001022</td>\n",
              "      <td>Male</td>\n",
              "      <td>Yes</td>\n",
              "      <td>1</td>\n",
              "      <td>Graduate</td>\n",
              "      <td>No</td>\n",
              "      <td>3076</td>\n",
              "      <td>1500</td>\n",
              "      <td>126.0</td>\n",
              "      <td>360.0</td>\n",
              "      <td>1.0</td>\n",
              "      <td>Urban</td>\n",
              "      <td>Y</td>\n",
              "    </tr>\n",
              "    <tr>\n",
              "      <th>2</th>\n",
              "      <td>LP001031</td>\n",
              "      <td>Male</td>\n",
              "      <td>Yes</td>\n",
              "      <td>2</td>\n",
              "      <td>Graduate</td>\n",
              "      <td>No</td>\n",
              "      <td>5000</td>\n",
              "      <td>1800</td>\n",
              "      <td>208.0</td>\n",
              "      <td>360.0</td>\n",
              "      <td>1.0</td>\n",
              "      <td>Urban</td>\n",
              "      <td>Y</td>\n",
              "    </tr>\n",
              "    <tr>\n",
              "      <th>3</th>\n",
              "      <td>LP001035</td>\n",
              "      <td>Male</td>\n",
              "      <td>Yes</td>\n",
              "      <td>2</td>\n",
              "      <td>Graduate</td>\n",
              "      <td>No</td>\n",
              "      <td>2340</td>\n",
              "      <td>2546</td>\n",
              "      <td>100.0</td>\n",
              "      <td>360.0</td>\n",
              "      <td>NaN</td>\n",
              "      <td>Urban</td>\n",
              "      <td>Y</td>\n",
              "    </tr>\n",
              "    <tr>\n",
              "      <th>4</th>\n",
              "      <td>LP001051</td>\n",
              "      <td>Male</td>\n",
              "      <td>No</td>\n",
              "      <td>0</td>\n",
              "      <td>Not Graduate</td>\n",
              "      <td>No</td>\n",
              "      <td>3276</td>\n",
              "      <td>0</td>\n",
              "      <td>78.0</td>\n",
              "      <td>360.0</td>\n",
              "      <td>1.0</td>\n",
              "      <td>Urban</td>\n",
              "      <td>N</td>\n",
              "    </tr>\n",
              "  </tbody>\n",
              "</table>\n",
              "</div>\n",
              "      <button class=\"colab-df-convert\" onclick=\"convertToInteractive('df-0ef44ab2-ee40-4d5f-95a6-b36c06e8de3a')\"\n",
              "              title=\"Convert this dataframe to an interactive table.\"\n",
              "              style=\"display:none;\">\n",
              "        \n",
              "  <svg xmlns=\"http://www.w3.org/2000/svg\" height=\"24px\"viewBox=\"0 0 24 24\"\n",
              "       width=\"24px\">\n",
              "    <path d=\"M0 0h24v24H0V0z\" fill=\"none\"/>\n",
              "    <path d=\"M18.56 5.44l.94 2.06.94-2.06 2.06-.94-2.06-.94-.94-2.06-.94 2.06-2.06.94zm-11 1L8.5 8.5l.94-2.06 2.06-.94-2.06-.94L8.5 2.5l-.94 2.06-2.06.94zm10 10l.94 2.06.94-2.06 2.06-.94-2.06-.94-.94-2.06-.94 2.06-2.06.94z\"/><path d=\"M17.41 7.96l-1.37-1.37c-.4-.4-.92-.59-1.43-.59-.52 0-1.04.2-1.43.59L10.3 9.45l-7.72 7.72c-.78.78-.78 2.05 0 2.83L4 21.41c.39.39.9.59 1.41.59.51 0 1.02-.2 1.41-.59l7.78-7.78 2.81-2.81c.8-.78.8-2.07 0-2.86zM5.41 20L4 18.59l7.72-7.72 1.47 1.35L5.41 20z\"/>\n",
              "  </svg>\n",
              "      </button>\n",
              "      \n",
              "  <style>\n",
              "    .colab-df-container {\n",
              "      display:flex;\n",
              "      flex-wrap:wrap;\n",
              "      gap: 12px;\n",
              "    }\n",
              "\n",
              "    .colab-df-convert {\n",
              "      background-color: #E8F0FE;\n",
              "      border: none;\n",
              "      border-radius: 50%;\n",
              "      cursor: pointer;\n",
              "      display: none;\n",
              "      fill: #1967D2;\n",
              "      height: 32px;\n",
              "      padding: 0 0 0 0;\n",
              "      width: 32px;\n",
              "    }\n",
              "\n",
              "    .colab-df-convert:hover {\n",
              "      background-color: #E2EBFA;\n",
              "      box-shadow: 0px 1px 2px rgba(60, 64, 67, 0.3), 0px 1px 3px 1px rgba(60, 64, 67, 0.15);\n",
              "      fill: #174EA6;\n",
              "    }\n",
              "\n",
              "    [theme=dark] .colab-df-convert {\n",
              "      background-color: #3B4455;\n",
              "      fill: #D2E3FC;\n",
              "    }\n",
              "\n",
              "    [theme=dark] .colab-df-convert:hover {\n",
              "      background-color: #434B5C;\n",
              "      box-shadow: 0px 1px 3px 1px rgba(0, 0, 0, 0.15);\n",
              "      filter: drop-shadow(0px 1px 2px rgba(0, 0, 0, 0.3));\n",
              "      fill: #FFFFFF;\n",
              "    }\n",
              "  </style>\n",
              "\n",
              "      <script>\n",
              "        const buttonEl =\n",
              "          document.querySelector('#df-0ef44ab2-ee40-4d5f-95a6-b36c06e8de3a button.colab-df-convert');\n",
              "        buttonEl.style.display =\n",
              "          google.colab.kernel.accessAllowed ? 'block' : 'none';\n",
              "\n",
              "        async function convertToInteractive(key) {\n",
              "          const element = document.querySelector('#df-0ef44ab2-ee40-4d5f-95a6-b36c06e8de3a');\n",
              "          const dataTable =\n",
              "            await google.colab.kernel.invokeFunction('convertToInteractive',\n",
              "                                                     [key], {});\n",
              "          if (!dataTable) return;\n",
              "\n",
              "          const docLinkHtml = 'Like what you see? Visit the ' +\n",
              "            '<a target=\"_blank\" href=https://colab.research.google.com/notebooks/data_table.ipynb>data table notebook</a>'\n",
              "            + ' to learn more about interactive tables.';\n",
              "          element.innerHTML = '';\n",
              "          dataTable['output_type'] = 'display_data';\n",
              "          await google.colab.output.renderOutput(dataTable, element);\n",
              "          const docLink = document.createElement('div');\n",
              "          docLink.innerHTML = docLinkHtml;\n",
              "          element.appendChild(docLink);\n",
              "        }\n",
              "      </script>\n",
              "    </div>\n",
              "  </div>\n",
              "  "
            ]
          },
          "metadata": {},
          "execution_count": 149
        }
      ],
      "source": [
        "test.head()"
      ]
    },
    {
      "cell_type": "code",
      "execution_count": null,
      "metadata": {
        "id": "w8Oki6zLk7HN"
      },
      "outputs": [],
      "source": [
        "#test.to_excel('C:\\\\Users\\\\adity\\\\OneDrive\\\\Documents\\\\Python Scripts\\\\Kaggle\\\\Loan\\\\Predicted Dataset.xlsx')"
      ]
    },
    {
      "cell_type": "code",
      "source": [
        "!apt-get update\n",
        "!apt-get install inkscape\n",
        "!add-apt-repository universe\n",
        "!add-apt-repository ppa:inkscape.dev/stable\n",
        "!apt-get update\n",
        "!apt install inkscape"
      ],
      "metadata": {
        "colab": {
          "base_uri": "https://localhost:8080/"
        },
        "id": "FDWguiRo-Yro",
        "outputId": "11eea24e-3c62-4d90-e9cf-907a62e91673"
      },
      "execution_count": 213,
      "outputs": [
        {
          "output_type": "stream",
          "name": "stdout",
          "text": [
            "\r0% [Working]\r            \rGet:1 http://security.ubuntu.com/ubuntu bionic-security InRelease [88.7 kB]\n",
            "\r0% [Connecting to archive.ubuntu.com (185.125.190.36)] [1 InRelease 14.2 kB/88.\r0% [Connecting to archive.ubuntu.com (185.125.190.36)] [Waiting for headers] [W\r0% [1 InRelease gpgv 88.7 kB] [Waiting for headers] [Waiting for headers] [Wait\r                                                                               \rGet:2 https://cloud.r-project.org/bin/linux/ubuntu bionic-cran40/ InRelease [3,626 B]\n",
            "\r0% [1 InRelease gpgv 88.7 kB] [Waiting for headers] [2 InRelease 3,626 B/3,626 \r0% [1 InRelease gpgv 88.7 kB] [Waiting for headers] [Waiting for headers] [Wait\r                                                                               \rIgn:3 https://developer.download.nvidia.com/compute/machine-learning/repos/ubuntu1804/x86_64  InRelease\n",
            "\r0% [1 InRelease gpgv 88.7 kB] [Waiting for headers] [Waiting for headers] [Wait\r                                                                               \rHit:4 https://developer.download.nvidia.com/compute/cuda/repos/ubuntu1804/x86_64  InRelease\n",
            "\r                                                                               \r0% [1 InRelease gpgv 88.7 kB] [Waiting for headers] [Waiting for headers]\r                                                                         \rHit:5 https://developer.download.nvidia.com/compute/machine-learning/repos/ubuntu1804/x86_64  Release\n",
            "Get:6 http://ppa.launchpad.net/c2d4u.team/c2d4u4.0+/ubuntu bionic InRelease [15.9 kB]\n",
            "Hit:7 http://archive.ubuntu.com/ubuntu bionic InRelease\n",
            "Get:8 http://archive.ubuntu.com/ubuntu bionic-updates InRelease [88.7 kB]\n",
            "Hit:9 http://ppa.launchpad.net/cran/libgit2/ubuntu bionic InRelease\n",
            "Hit:10 http://ppa.launchpad.net/deadsnakes/ppa/ubuntu bionic InRelease\n",
            "Get:11 http://archive.ubuntu.com/ubuntu bionic-backports InRelease [83.3 kB]\n",
            "Hit:12 http://ppa.launchpad.net/graphics-drivers/ppa/ubuntu bionic InRelease\n",
            "Get:14 http://ppa.launchpad.net/c2d4u.team/c2d4u4.0+/ubuntu bionic/main Sources [2,235 kB]\n",
            "Get:15 http://ppa.launchpad.net/c2d4u.team/c2d4u4.0+/ubuntu bionic/main amd64 Packages [1,143 kB]\n",
            "Fetched 3,659 kB in 4s (820 kB/s)\n",
            "Reading package lists... Done\n",
            "Reading package lists... Done\n",
            "Building dependency tree       \n",
            "Reading state information... Done\n",
            "The following package was automatically installed and is no longer required:\n",
            "  libnvidia-common-460\n",
            "Use 'apt autoremove' to remove it.\n",
            "The following additional packages will be installed:\n",
            "  aspell aspell-en dictionaries-common emacsen-common enchant fig2dev gawk\n",
            "  ghostscript gsfonts hunspell-en-us imagemagick imagemagick-6-common\n",
            "  imagemagick-6.q16 libaspell15 libatkmm-1.6-1v5 libcairomm-1.0-1v5\n",
            "  libcdr-0.1-1 libdbus-glib-1-2 libdjvulibre-text libdjvulibre21\n",
            "  libenchant1c2a libgail-common libgail18 libglibmm-2.4-1v5 libgsl23\n",
            "  libgslcblas0 libgtk2.0-0 libgtk2.0-bin libgtk2.0-common libgtkmm-2.4-1v5\n",
            "  libgtkspell0 libhunspell-1.6-0 libimage-magick-perl libimage-magick-q16-perl\n",
            "  liblqr-1-0 libmagick++-6.q16-7 libmagickcore-6.q16-3\n",
            "  libmagickcore-6.q16-3-extra libmagickwand-6.q16-3 libnetpbm10\n",
            "  libpangomm-1.4-1v5 libpoppler-glib8 librevenge-0.0-0 libsigc++-2.0-0v5\n",
            "  libsigsegv2 libtext-iconv-perl libvisio-0.1-1 libwmf-bin libwmf0.2-7\n",
            "  libwpd-0.10-10 libwpg-0.3-3 netpbm python-bs4 python-chardet python-html5lib\n",
            "  python-lxml python-pkg-resources python-scour python-six python-webencodings\n",
            "  python3-pkg-resources python3-scour python3-six scour transfig\n",
            "Suggested packages:\n",
            "  aspell-doc spellutils wordlist xfig gawk-doc ghostscript-x hunspell\n",
            "  openoffice.org-hunspell | openoffice.org-core imagemagick-doc autotrace\n",
            "  cups-bsd | lpr | lprng enscript gimp gnuplot grads hp2xx html2ps mplayer\n",
            "  povray radiance sane-utils ufraw-batch dia libsvg-perl libxml-xql-perl\n",
            "  pstoedit python-uniconvertor libenchant-voikko gsl-ref-psdoc | gsl-doc-pdf\n",
            "  | gsl-doc-info | gsl-ref-html gvfs libjxr-tools libwmf0.2-7-gtk\n",
            "  python-genshi python-lxml-dbg python-lxml-doc python-setuptools\n",
            "  python3-setuptools gir1.2-rsvg-2.0 python3-gi-cairo\n",
            "The following NEW packages will be installed:\n",
            "  aspell aspell-en dictionaries-common emacsen-common enchant fig2dev gawk\n",
            "  ghostscript gsfonts hunspell-en-us imagemagick imagemagick-6-common\n",
            "  imagemagick-6.q16 inkscape libaspell15 libatkmm-1.6-1v5 libcairomm-1.0-1v5\n",
            "  libcdr-0.1-1 libdbus-glib-1-2 libdjvulibre-text libdjvulibre21\n",
            "  libenchant1c2a libgail-common libgail18 libglibmm-2.4-1v5 libgsl23\n",
            "  libgslcblas0 libgtk2.0-0 libgtk2.0-bin libgtk2.0-common libgtkmm-2.4-1v5\n",
            "  libgtkspell0 libhunspell-1.6-0 libimage-magick-perl libimage-magick-q16-perl\n",
            "  liblqr-1-0 libmagick++-6.q16-7 libmagickcore-6.q16-3\n",
            "  libmagickcore-6.q16-3-extra libmagickwand-6.q16-3 libnetpbm10\n",
            "  libpangomm-1.4-1v5 libpoppler-glib8 librevenge-0.0-0 libsigc++-2.0-0v5\n",
            "  libsigsegv2 libtext-iconv-perl libvisio-0.1-1 libwmf-bin libwmf0.2-7\n",
            "  libwpd-0.10-10 libwpg-0.3-3 netpbm python-bs4 python-chardet python-html5lib\n",
            "  python-lxml python-pkg-resources python-scour python-six python-webencodings\n",
            "  python3-pkg-resources python3-scour python3-six scour transfig\n",
            "0 upgraded, 66 newly installed, 0 to remove and 20 not upgraded.\n",
            "Need to get 33.7 MB of archives.\n",
            "After this operation, 189 MB of additional disk space will be used.\n",
            "Get:1 http://archive.ubuntu.com/ubuntu bionic/main amd64 libsigsegv2 amd64 2.12-1 [14.7 kB]\n",
            "Get:2 http://archive.ubuntu.com/ubuntu bionic/main amd64 gawk amd64 1:4.1.4+dfsg-1build1 [401 kB]\n",
            "Get:3 http://archive.ubuntu.com/ubuntu bionic-updates/main amd64 imagemagick-6-common all 8:6.9.7.4+dfsg-16ubuntu6.14 [60.5 kB]\n",
            "Get:4 http://archive.ubuntu.com/ubuntu bionic/main amd64 liblqr-1-0 amd64 0.4.2-2.1 [27.7 kB]\n",
            "Get:5 http://archive.ubuntu.com/ubuntu bionic-updates/main amd64 libmagickcore-6.q16-3 amd64 8:6.9.7.4+dfsg-16ubuntu6.14 [1,622 kB]\n",
            "Get:6 http://archive.ubuntu.com/ubuntu bionic-updates/universe amd64 libimage-magick-q16-perl amd64 8:6.9.7.4+dfsg-16ubuntu6.14 [97.4 kB]\n",
            "Get:7 http://archive.ubuntu.com/ubuntu bionic-updates/universe amd64 libimage-magick-perl all 8:6.9.7.4+dfsg-16ubuntu6.14 [52.9 kB]\n",
            "Get:8 http://archive.ubuntu.com/ubuntu bionic-updates/main amd64 libmagickwand-6.q16-3 amd64 8:6.9.7.4+dfsg-16ubuntu6.14 [294 kB]\n",
            "Get:9 http://archive.ubuntu.com/ubuntu bionic/main amd64 libtext-iconv-perl amd64 1.7-5build6 [13.0 kB]\n",
            "Get:10 http://archive.ubuntu.com/ubuntu bionic-updates/main amd64 libaspell15 amd64 0.60.7~20110707-4ubuntu0.2 [310 kB]\n",
            "Get:11 http://archive.ubuntu.com/ubuntu bionic/main amd64 emacsen-common all 2.0.8 [17.6 kB]\n",
            "Get:12 http://archive.ubuntu.com/ubuntu bionic/main amd64 dictionaries-common all 1.27.2 [186 kB]\n",
            "Get:13 http://archive.ubuntu.com/ubuntu bionic-updates/main amd64 aspell amd64 0.60.7~20110707-4ubuntu0.2 [87.7 kB]\n",
            "Get:14 http://archive.ubuntu.com/ubuntu bionic/main amd64 aspell-en all 2017.08.24-0-0.1 [298 kB]\n",
            "Get:15 http://archive.ubuntu.com/ubuntu bionic/main amd64 hunspell-en-us all 1:2017.08.24 [168 kB]\n",
            "Get:16 http://archive.ubuntu.com/ubuntu bionic/main amd64 libhunspell-1.6-0 amd64 1.6.2-1 [154 kB]\n",
            "Get:17 http://archive.ubuntu.com/ubuntu bionic/main amd64 libenchant1c2a amd64 1.6.0-11.1 [64.4 kB]\n",
            "Get:18 http://archive.ubuntu.com/ubuntu bionic/main amd64 enchant amd64 1.6.0-11.1 [12.2 kB]\n",
            "Get:19 http://archive.ubuntu.com/ubuntu bionic/universe amd64 fig2dev amd64 1:3.2.6a-6ubuntu1 [629 kB]\n",
            "Get:20 http://archive.ubuntu.com/ubuntu bionic-updates/main amd64 ghostscript amd64 9.26~dfsg+0-0ubuntu0.18.04.17 [51.3 kB]\n",
            "Get:21 http://archive.ubuntu.com/ubuntu bionic/main amd64 gsfonts all 1:8.11+urwcyr1.0.7~pre44-4.4 [3,120 kB]\n",
            "Get:22 http://archive.ubuntu.com/ubuntu bionic-updates/main amd64 imagemagick-6.q16 amd64 8:6.9.7.4+dfsg-16ubuntu6.14 [423 kB]\n",
            "Get:23 http://archive.ubuntu.com/ubuntu bionic-updates/main amd64 imagemagick amd64 8:6.9.7.4+dfsg-16ubuntu6.14 [14.2 kB]\n",
            "Get:24 http://archive.ubuntu.com/ubuntu bionic/main amd64 libsigc++-2.0-0v5 amd64 2.10.0-2 [10.9 kB]\n",
            "Get:25 http://archive.ubuntu.com/ubuntu bionic/main amd64 libglibmm-2.4-1v5 amd64 2.56.0-1 [516 kB]\n",
            "Get:26 http://archive.ubuntu.com/ubuntu bionic/main amd64 libatkmm-1.6-1v5 amd64 2.24.2-3 [62.6 kB]\n",
            "Get:27 http://archive.ubuntu.com/ubuntu bionic/main amd64 libcairomm-1.0-1v5 amd64 1.12.2-3 [37.1 kB]\n",
            "Get:28 http://archive.ubuntu.com/ubuntu bionic/main amd64 librevenge-0.0-0 amd64 0.0.4-6ubuntu2 [203 kB]\n",
            "Get:29 http://archive.ubuntu.com/ubuntu bionic/main amd64 libcdr-0.1-1 amd64 0.1.4-1build1 [333 kB]\n",
            "Get:30 http://archive.ubuntu.com/ubuntu bionic/main amd64 libdbus-glib-1-2 amd64 0.110-2 [58.3 kB]\n",
            "Get:31 http://archive.ubuntu.com/ubuntu bionic/universe amd64 libgslcblas0 amd64 2.4+dfsg-6 [79.7 kB]\n",
            "Get:32 http://archive.ubuntu.com/ubuntu bionic/universe amd64 libgsl23 amd64 2.4+dfsg-6 [823 kB]\n",
            "Get:33 http://archive.ubuntu.com/ubuntu bionic/main amd64 libgtk2.0-common all 2.24.32-1ubuntu1 [125 kB]\n",
            "Get:34 http://archive.ubuntu.com/ubuntu bionic/main amd64 libgtk2.0-0 amd64 2.24.32-1ubuntu1 [1,769 kB]\n",
            "Get:35 http://archive.ubuntu.com/ubuntu bionic/main amd64 libpangomm-1.4-1v5 amd64 2.40.1-4 [42.5 kB]\n",
            "Get:36 http://archive.ubuntu.com/ubuntu bionic/main amd64 libgtkmm-2.4-1v5 amd64 1:2.24.5-2 [666 kB]\n",
            "Get:37 http://archive.ubuntu.com/ubuntu bionic/universe amd64 libgtkspell0 amd64 2.0.16-1.2 [20.4 kB]\n",
            "Get:38 http://archive.ubuntu.com/ubuntu bionic-updates/main amd64 libmagick++-6.q16-7 amd64 8:6.9.7.4+dfsg-16ubuntu6.14 [139 kB]\n",
            "Get:39 http://archive.ubuntu.com/ubuntu bionic-updates/main amd64 libpoppler-glib8 amd64 0.62.0-2ubuntu2.14 [108 kB]\n",
            "Get:40 http://archive.ubuntu.com/ubuntu bionic/main amd64 libvisio-0.1-1 amd64 0.1.6-1build1 [210 kB]\n",
            "Get:41 http://archive.ubuntu.com/ubuntu bionic/main amd64 libwpd-0.10-10 amd64 0.10.2-2 [161 kB]\n",
            "Get:42 http://archive.ubuntu.com/ubuntu bionic/main amd64 libwpg-0.3-3 amd64 0.3.1-3 [44.6 kB]\n",
            "Get:43 http://archive.ubuntu.com/ubuntu bionic/universe amd64 inkscape amd64 0.92.3-1 [16.7 MB]\n",
            "Get:44 http://archive.ubuntu.com/ubuntu bionic-updates/main amd64 libdjvulibre-text all 3.5.27.1-8ubuntu0.4 [49.4 kB]\n",
            "Get:45 http://archive.ubuntu.com/ubuntu bionic-updates/main amd64 libdjvulibre21 amd64 3.5.27.1-8ubuntu0.4 [561 kB]\n",
            "Get:46 http://archive.ubuntu.com/ubuntu bionic/main amd64 libgail18 amd64 2.24.32-1ubuntu1 [14.2 kB]\n",
            "Get:47 http://archive.ubuntu.com/ubuntu bionic/main amd64 libgail-common amd64 2.24.32-1ubuntu1 [112 kB]\n",
            "Get:48 http://archive.ubuntu.com/ubuntu bionic/main amd64 libgtk2.0-bin amd64 2.24.32-1ubuntu1 [7,536 B]\n",
            "Get:49 http://archive.ubuntu.com/ubuntu bionic/main amd64 libwmf0.2-7 amd64 0.2.8.4-12 [150 kB]\n",
            "Get:50 http://archive.ubuntu.com/ubuntu bionic-updates/main amd64 libmagickcore-6.q16-3-extra amd64 8:6.9.7.4+dfsg-16ubuntu6.14 [62.2 kB]\n",
            "Get:51 http://archive.ubuntu.com/ubuntu bionic/main amd64 libnetpbm10 amd64 2:10.0-15.3build1 [58.0 kB]\n",
            "Get:52 http://archive.ubuntu.com/ubuntu bionic/universe amd64 libwmf-bin amd64 0.2.8.4-12 [17.0 kB]\n",
            "Get:53 http://archive.ubuntu.com/ubuntu bionic/main amd64 netpbm amd64 2:10.0-15.3build1 [1,017 kB]\n",
            "Get:54 http://archive.ubuntu.com/ubuntu bionic/main amd64 python-bs4 all 4.6.0-1 [67.9 kB]\n",
            "Get:55 http://archive.ubuntu.com/ubuntu bionic/main amd64 python-pkg-resources all 39.0.1-2 [128 kB]\n",
            "Get:56 http://archive.ubuntu.com/ubuntu bionic/main amd64 python-chardet all 3.0.4-1 [80.3 kB]\n",
            "Get:57 http://archive.ubuntu.com/ubuntu bionic/main amd64 python-six all 1.11.0-2 [11.3 kB]\n",
            "Get:58 http://archive.ubuntu.com/ubuntu bionic/main amd64 python-webencodings all 0.5-2 [10.3 kB]\n",
            "Get:59 http://archive.ubuntu.com/ubuntu bionic/main amd64 python-html5lib all 0.999999999-1 [83.6 kB]\n",
            "Get:60 http://archive.ubuntu.com/ubuntu bionic-updates/main amd64 python-lxml amd64 4.2.1-1ubuntu0.6 [898 kB]\n",
            "Get:61 http://archive.ubuntu.com/ubuntu bionic/main amd64 python3-six all 1.11.0-2 [11.4 kB]\n",
            "Get:62 http://archive.ubuntu.com/ubuntu bionic/main amd64 python3-pkg-resources all 39.0.1-2 [98.8 kB]\n",
            "Get:63 http://archive.ubuntu.com/ubuntu bionic/universe amd64 python3-scour all 0.36-2 [44.8 kB]\n",
            "Get:64 http://archive.ubuntu.com/ubuntu bionic/universe amd64 scour all 0.36-2 [7,372 B]\n",
            "Get:65 http://archive.ubuntu.com/ubuntu bionic/universe amd64 python-scour all 0.36-2 [42.7 kB]\n",
            "Get:66 http://archive.ubuntu.com/ubuntu bionic/universe amd64 transfig all 1:3.2.6a-6ubuntu1 [2,920 B]\n",
            "Fetched 33.7 MB in 3s (11.6 MB/s)\n",
            "Extracting templates from packages: 100%\n",
            "Preconfiguring packages ...\n",
            "Selecting previously unselected package libsigsegv2:amd64.\n",
            "(Reading database ... 150202 files and directories currently installed.)\n",
            "Preparing to unpack .../libsigsegv2_2.12-1_amd64.deb ...\n",
            "Unpacking libsigsegv2:amd64 (2.12-1) ...\n",
            "Setting up libsigsegv2:amd64 (2.12-1) ...\n",
            "Selecting previously unselected package gawk.\n",
            "(Reading database ... 150209 files and directories currently installed.)\n",
            "Preparing to unpack .../00-gawk_1%3a4.1.4+dfsg-1build1_amd64.deb ...\n",
            "Unpacking gawk (1:4.1.4+dfsg-1build1) ...\n",
            "Selecting previously unselected package imagemagick-6-common.\n",
            "Preparing to unpack .../01-imagemagick-6-common_8%3a6.9.7.4+dfsg-16ubuntu6.14_all.deb ...\n",
            "Unpacking imagemagick-6-common (8:6.9.7.4+dfsg-16ubuntu6.14) ...\n",
            "Selecting previously unselected package liblqr-1-0:amd64.\n",
            "Preparing to unpack .../02-liblqr-1-0_0.4.2-2.1_amd64.deb ...\n",
            "Unpacking liblqr-1-0:amd64 (0.4.2-2.1) ...\n",
            "Selecting previously unselected package libmagickcore-6.q16-3:amd64.\n",
            "Preparing to unpack .../03-libmagickcore-6.q16-3_8%3a6.9.7.4+dfsg-16ubuntu6.14_amd64.deb ...\n",
            "Unpacking libmagickcore-6.q16-3:amd64 (8:6.9.7.4+dfsg-16ubuntu6.14) ...\n",
            "Selecting previously unselected package libimage-magick-q16-perl.\n",
            "Preparing to unpack .../04-libimage-magick-q16-perl_8%3a6.9.7.4+dfsg-16ubuntu6.14_amd64.deb ...\n",
            "Unpacking libimage-magick-q16-perl (8:6.9.7.4+dfsg-16ubuntu6.14) ...\n",
            "Selecting previously unselected package libimage-magick-perl.\n",
            "Preparing to unpack .../05-libimage-magick-perl_8%3a6.9.7.4+dfsg-16ubuntu6.14_all.deb ...\n",
            "Unpacking libimage-magick-perl (8:6.9.7.4+dfsg-16ubuntu6.14) ...\n",
            "Selecting previously unselected package libmagickwand-6.q16-3:amd64.\n",
            "Preparing to unpack .../06-libmagickwand-6.q16-3_8%3a6.9.7.4+dfsg-16ubuntu6.14_amd64.deb ...\n",
            "Unpacking libmagickwand-6.q16-3:amd64 (8:6.9.7.4+dfsg-16ubuntu6.14) ...\n",
            "Selecting previously unselected package libtext-iconv-perl.\n",
            "Preparing to unpack .../07-libtext-iconv-perl_1.7-5build6_amd64.deb ...\n",
            "Unpacking libtext-iconv-perl (1.7-5build6) ...\n",
            "Selecting previously unselected package libaspell15:amd64.\n",
            "Preparing to unpack .../08-libaspell15_0.60.7~20110707-4ubuntu0.2_amd64.deb ...\n",
            "Unpacking libaspell15:amd64 (0.60.7~20110707-4ubuntu0.2) ...\n",
            "Selecting previously unselected package emacsen-common.\n",
            "Preparing to unpack .../09-emacsen-common_2.0.8_all.deb ...\n",
            "Unpacking emacsen-common (2.0.8) ...\n",
            "Selecting previously unselected package dictionaries-common.\n",
            "Preparing to unpack .../10-dictionaries-common_1.27.2_all.deb ...\n",
            "Adding 'diversion of /usr/share/dict/words to /usr/share/dict/words.pre-dictionaries-common by dictionaries-common'\n",
            "Unpacking dictionaries-common (1.27.2) ...\n",
            "Selecting previously unselected package aspell.\n",
            "Preparing to unpack .../11-aspell_0.60.7~20110707-4ubuntu0.2_amd64.deb ...\n",
            "Unpacking aspell (0.60.7~20110707-4ubuntu0.2) ...\n",
            "Selecting previously unselected package aspell-en.\n",
            "Preparing to unpack .../12-aspell-en_2017.08.24-0-0.1_all.deb ...\n",
            "Unpacking aspell-en (2017.08.24-0-0.1) ...\n",
            "Selecting previously unselected package hunspell-en-us.\n",
            "Preparing to unpack .../13-hunspell-en-us_1%3a2017.08.24_all.deb ...\n",
            "Unpacking hunspell-en-us (1:2017.08.24) ...\n",
            "Selecting previously unselected package libhunspell-1.6-0:amd64.\n",
            "Preparing to unpack .../14-libhunspell-1.6-0_1.6.2-1_amd64.deb ...\n",
            "Unpacking libhunspell-1.6-0:amd64 (1.6.2-1) ...\n",
            "Selecting previously unselected package libenchant1c2a:amd64.\n",
            "Preparing to unpack .../15-libenchant1c2a_1.6.0-11.1_amd64.deb ...\n",
            "Unpacking libenchant1c2a:amd64 (1.6.0-11.1) ...\n",
            "Selecting previously unselected package enchant.\n",
            "Preparing to unpack .../16-enchant_1.6.0-11.1_amd64.deb ...\n",
            "Unpacking enchant (1.6.0-11.1) ...\n",
            "Selecting previously unselected package fig2dev.\n",
            "Preparing to unpack .../17-fig2dev_1%3a3.2.6a-6ubuntu1_amd64.deb ...\n",
            "Unpacking fig2dev (1:3.2.6a-6ubuntu1) ...\n",
            "Selecting previously unselected package ghostscript.\n",
            "Preparing to unpack .../18-ghostscript_9.26~dfsg+0-0ubuntu0.18.04.17_amd64.deb ...\n",
            "Unpacking ghostscript (9.26~dfsg+0-0ubuntu0.18.04.17) ...\n",
            "Selecting previously unselected package gsfonts.\n",
            "Preparing to unpack .../19-gsfonts_1%3a8.11+urwcyr1.0.7~pre44-4.4_all.deb ...\n",
            "Unpacking gsfonts (1:8.11+urwcyr1.0.7~pre44-4.4) ...\n",
            "Selecting previously unselected package imagemagick-6.q16.\n",
            "Preparing to unpack .../20-imagemagick-6.q16_8%3a6.9.7.4+dfsg-16ubuntu6.14_amd64.deb ...\n",
            "Unpacking imagemagick-6.q16 (8:6.9.7.4+dfsg-16ubuntu6.14) ...\n",
            "Selecting previously unselected package imagemagick.\n",
            "Preparing to unpack .../21-imagemagick_8%3a6.9.7.4+dfsg-16ubuntu6.14_amd64.deb ...\n",
            "Unpacking imagemagick (8:6.9.7.4+dfsg-16ubuntu6.14) ...\n",
            "Selecting previously unselected package libsigc++-2.0-0v5:amd64.\n",
            "Preparing to unpack .../22-libsigc++-2.0-0v5_2.10.0-2_amd64.deb ...\n",
            "Unpacking libsigc++-2.0-0v5:amd64 (2.10.0-2) ...\n",
            "Selecting previously unselected package libglibmm-2.4-1v5:amd64.\n",
            "Preparing to unpack .../23-libglibmm-2.4-1v5_2.56.0-1_amd64.deb ...\n",
            "Unpacking libglibmm-2.4-1v5:amd64 (2.56.0-1) ...\n",
            "Selecting previously unselected package libatkmm-1.6-1v5:amd64.\n",
            "Preparing to unpack .../24-libatkmm-1.6-1v5_2.24.2-3_amd64.deb ...\n",
            "Unpacking libatkmm-1.6-1v5:amd64 (2.24.2-3) ...\n",
            "Selecting previously unselected package libcairomm-1.0-1v5:amd64.\n",
            "Preparing to unpack .../25-libcairomm-1.0-1v5_1.12.2-3_amd64.deb ...\n",
            "Unpacking libcairomm-1.0-1v5:amd64 (1.12.2-3) ...\n",
            "Selecting previously unselected package librevenge-0.0-0:amd64.\n",
            "Preparing to unpack .../26-librevenge-0.0-0_0.0.4-6ubuntu2_amd64.deb ...\n",
            "Unpacking librevenge-0.0-0:amd64 (0.0.4-6ubuntu2) ...\n",
            "Selecting previously unselected package libcdr-0.1-1:amd64.\n",
            "Preparing to unpack .../27-libcdr-0.1-1_0.1.4-1build1_amd64.deb ...\n",
            "Unpacking libcdr-0.1-1:amd64 (0.1.4-1build1) ...\n",
            "Selecting previously unselected package libdbus-glib-1-2:amd64.\n",
            "Preparing to unpack .../28-libdbus-glib-1-2_0.110-2_amd64.deb ...\n",
            "Unpacking libdbus-glib-1-2:amd64 (0.110-2) ...\n",
            "Selecting previously unselected package libgslcblas0:amd64.\n",
            "Preparing to unpack .../29-libgslcblas0_2.4+dfsg-6_amd64.deb ...\n",
            "Unpacking libgslcblas0:amd64 (2.4+dfsg-6) ...\n",
            "Selecting previously unselected package libgsl23:amd64.\n",
            "Preparing to unpack .../30-libgsl23_2.4+dfsg-6_amd64.deb ...\n",
            "Unpacking libgsl23:amd64 (2.4+dfsg-6) ...\n",
            "Selecting previously unselected package libgtk2.0-common.\n",
            "Preparing to unpack .../31-libgtk2.0-common_2.24.32-1ubuntu1_all.deb ...\n",
            "Unpacking libgtk2.0-common (2.24.32-1ubuntu1) ...\n",
            "Selecting previously unselected package libgtk2.0-0:amd64.\n",
            "Preparing to unpack .../32-libgtk2.0-0_2.24.32-1ubuntu1_amd64.deb ...\n",
            "Unpacking libgtk2.0-0:amd64 (2.24.32-1ubuntu1) ...\n",
            "Selecting previously unselected package libpangomm-1.4-1v5:amd64.\n",
            "Preparing to unpack .../33-libpangomm-1.4-1v5_2.40.1-4_amd64.deb ...\n",
            "Unpacking libpangomm-1.4-1v5:amd64 (2.40.1-4) ...\n",
            "Selecting previously unselected package libgtkmm-2.4-1v5:amd64.\n",
            "Preparing to unpack .../34-libgtkmm-2.4-1v5_1%3a2.24.5-2_amd64.deb ...\n",
            "Unpacking libgtkmm-2.4-1v5:amd64 (1:2.24.5-2) ...\n",
            "Selecting previously unselected package libgtkspell0:amd64.\n",
            "Preparing to unpack .../35-libgtkspell0_2.0.16-1.2_amd64.deb ...\n",
            "Unpacking libgtkspell0:amd64 (2.0.16-1.2) ...\n",
            "Selecting previously unselected package libmagick++-6.q16-7:amd64.\n",
            "Preparing to unpack .../36-libmagick++-6.q16-7_8%3a6.9.7.4+dfsg-16ubuntu6.14_amd64.deb ...\n",
            "Unpacking libmagick++-6.q16-7:amd64 (8:6.9.7.4+dfsg-16ubuntu6.14) ...\n",
            "Selecting previously unselected package libpoppler-glib8:amd64.\n",
            "Preparing to unpack .../37-libpoppler-glib8_0.62.0-2ubuntu2.14_amd64.deb ...\n",
            "Unpacking libpoppler-glib8:amd64 (0.62.0-2ubuntu2.14) ...\n",
            "Selecting previously unselected package libvisio-0.1-1:amd64.\n",
            "Preparing to unpack .../38-libvisio-0.1-1_0.1.6-1build1_amd64.deb ...\n",
            "Unpacking libvisio-0.1-1:amd64 (0.1.6-1build1) ...\n",
            "Selecting previously unselected package libwpd-0.10-10:amd64.\n",
            "Preparing to unpack .../39-libwpd-0.10-10_0.10.2-2_amd64.deb ...\n",
            "Unpacking libwpd-0.10-10:amd64 (0.10.2-2) ...\n",
            "Selecting previously unselected package libwpg-0.3-3:amd64.\n",
            "Preparing to unpack .../40-libwpg-0.3-3_0.3.1-3_amd64.deb ...\n",
            "Unpacking libwpg-0.3-3:amd64 (0.3.1-3) ...\n",
            "Selecting previously unselected package inkscape.\n",
            "Preparing to unpack .../41-inkscape_0.92.3-1_amd64.deb ...\n",
            "Unpacking inkscape (0.92.3-1) ...\n",
            "Selecting previously unselected package libdjvulibre-text.\n",
            "Preparing to unpack .../42-libdjvulibre-text_3.5.27.1-8ubuntu0.4_all.deb ...\n",
            "Unpacking libdjvulibre-text (3.5.27.1-8ubuntu0.4) ...\n",
            "Selecting previously unselected package libdjvulibre21:amd64.\n",
            "Preparing to unpack .../43-libdjvulibre21_3.5.27.1-8ubuntu0.4_amd64.deb ...\n",
            "Unpacking libdjvulibre21:amd64 (3.5.27.1-8ubuntu0.4) ...\n",
            "Selecting previously unselected package libgail18:amd64.\n",
            "Preparing to unpack .../44-libgail18_2.24.32-1ubuntu1_amd64.deb ...\n",
            "Unpacking libgail18:amd64 (2.24.32-1ubuntu1) ...\n",
            "Selecting previously unselected package libgail-common:amd64.\n",
            "Preparing to unpack .../45-libgail-common_2.24.32-1ubuntu1_amd64.deb ...\n",
            "Unpacking libgail-common:amd64 (2.24.32-1ubuntu1) ...\n",
            "Selecting previously unselected package libgtk2.0-bin.\n",
            "Preparing to unpack .../46-libgtk2.0-bin_2.24.32-1ubuntu1_amd64.deb ...\n",
            "Unpacking libgtk2.0-bin (2.24.32-1ubuntu1) ...\n",
            "Selecting previously unselected package libwmf0.2-7:amd64.\n",
            "Preparing to unpack .../47-libwmf0.2-7_0.2.8.4-12_amd64.deb ...\n",
            "Unpacking libwmf0.2-7:amd64 (0.2.8.4-12) ...\n",
            "Selecting previously unselected package libmagickcore-6.q16-3-extra:amd64.\n",
            "Preparing to unpack .../48-libmagickcore-6.q16-3-extra_8%3a6.9.7.4+dfsg-16ubuntu6.14_amd64.deb ...\n",
            "Unpacking libmagickcore-6.q16-3-extra:amd64 (8:6.9.7.4+dfsg-16ubuntu6.14) ...\n",
            "Selecting previously unselected package libnetpbm10.\n",
            "Preparing to unpack .../49-libnetpbm10_2%3a10.0-15.3build1_amd64.deb ...\n",
            "Unpacking libnetpbm10 (2:10.0-15.3build1) ...\n",
            "Selecting previously unselected package libwmf-bin.\n",
            "Preparing to unpack .../50-libwmf-bin_0.2.8.4-12_amd64.deb ...\n",
            "Unpacking libwmf-bin (0.2.8.4-12) ...\n",
            "Selecting previously unselected package netpbm.\n",
            "Preparing to unpack .../51-netpbm_2%3a10.0-15.3build1_amd64.deb ...\n",
            "Unpacking netpbm (2:10.0-15.3build1) ...\n",
            "Selecting previously unselected package python-bs4.\n",
            "Preparing to unpack .../52-python-bs4_4.6.0-1_all.deb ...\n",
            "Unpacking python-bs4 (4.6.0-1) ...\n",
            "Selecting previously unselected package python-pkg-resources.\n",
            "Preparing to unpack .../53-python-pkg-resources_39.0.1-2_all.deb ...\n",
            "Unpacking python-pkg-resources (39.0.1-2) ...\n",
            "Selecting previously unselected package python-chardet.\n",
            "Preparing to unpack .../54-python-chardet_3.0.4-1_all.deb ...\n",
            "Unpacking python-chardet (3.0.4-1) ...\n",
            "Selecting previously unselected package python-six.\n",
            "Preparing to unpack .../55-python-six_1.11.0-2_all.deb ...\n",
            "Unpacking python-six (1.11.0-2) ...\n",
            "Selecting previously unselected package python-webencodings.\n",
            "Preparing to unpack .../56-python-webencodings_0.5-2_all.deb ...\n",
            "Unpacking python-webencodings (0.5-2) ...\n",
            "Selecting previously unselected package python-html5lib.\n",
            "Preparing to unpack .../57-python-html5lib_0.999999999-1_all.deb ...\n",
            "Unpacking python-html5lib (0.999999999-1) ...\n",
            "Selecting previously unselected package python-lxml:amd64.\n",
            "Preparing to unpack .../58-python-lxml_4.2.1-1ubuntu0.6_amd64.deb ...\n",
            "Unpacking python-lxml:amd64 (4.2.1-1ubuntu0.6) ...\n",
            "Selecting previously unselected package python3-six.\n",
            "Preparing to unpack .../59-python3-six_1.11.0-2_all.deb ...\n",
            "Unpacking python3-six (1.11.0-2) ...\n",
            "Selecting previously unselected package python3-pkg-resources.\n",
            "Preparing to unpack .../60-python3-pkg-resources_39.0.1-2_all.deb ...\n",
            "Unpacking python3-pkg-resources (39.0.1-2) ...\n",
            "Selecting previously unselected package python3-scour.\n",
            "Preparing to unpack .../61-python3-scour_0.36-2_all.deb ...\n",
            "Unpacking python3-scour (0.36-2) ...\n",
            "Selecting previously unselected package scour.\n",
            "Preparing to unpack .../62-scour_0.36-2_all.deb ...\n",
            "Unpacking scour (0.36-2) ...\n",
            "Selecting previously unselected package python-scour.\n",
            "Preparing to unpack .../63-python-scour_0.36-2_all.deb ...\n",
            "Unpacking python-scour (0.36-2) ...\n",
            "Selecting previously unselected package transfig.\n",
            "Preparing to unpack .../64-transfig_1%3a3.2.6a-6ubuntu1_all.deb ...\n",
            "Unpacking transfig (1:3.2.6a-6ubuntu1) ...\n",
            "Setting up imagemagick-6-common (8:6.9.7.4+dfsg-16ubuntu6.14) ...\n",
            "Setting up libpoppler-glib8:amd64 (0.62.0-2ubuntu2.14) ...\n",
            "Setting up libgtk2.0-common (2.24.32-1ubuntu1) ...\n",
            "Setting up gsfonts (1:8.11+urwcyr1.0.7~pre44-4.4) ...\n",
            "Setting up libhunspell-1.6-0:amd64 (1.6.2-1) ...\n",
            "Setting up libaspell15:amd64 (0.60.7~20110707-4ubuntu0.2) ...\n",
            "Setting up libdjvulibre-text (3.5.27.1-8ubuntu0.4) ...\n",
            "Setting up libdbus-glib-1-2:amd64 (0.110-2) ...\n",
            "Setting up libnetpbm10 (2:10.0-15.3build1) ...\n",
            "Setting up emacsen-common (2.0.8) ...\n",
            "Setting up python3-six (1.11.0-2) ...\n",
            "/usr/lib/python3.8/subprocess.py:842: RuntimeWarning: line buffering (buffering=1) isn't supported in binary mode, the default buffer size will be used\n",
            "  self.stdin = io.open(p2cwrite, 'wb', bufsize)\n",
            "Setting up ghostscript (9.26~dfsg+0-0ubuntu0.18.04.17) ...\n",
            "Setting up python3-pkg-resources (39.0.1-2) ...\n",
            "/usr/lib/python3.8/subprocess.py:842: RuntimeWarning: line buffering (buffering=1) isn't supported in binary mode, the default buffer size will be used\n",
            "  self.stdin = io.open(p2cwrite, 'wb', bufsize)\n",
            "Setting up python-pkg-resources (39.0.1-2) ...\n",
            "Setting up librevenge-0.0-0:amd64 (0.0.4-6ubuntu2) ...\n",
            "Setting up gawk (1:4.1.4+dfsg-1build1) ...\n",
            "Setting up liblqr-1-0:amd64 (0.4.2-2.1) ...\n",
            "Setting up python-six (1.11.0-2) ...\n",
            "Setting up python-bs4 (4.6.0-1) ...\n",
            "Setting up libtext-iconv-perl (1.7-5build6) ...\n",
            "Setting up python-lxml:amd64 (4.2.1-1ubuntu0.6) ...\n",
            "Setting up libcdr-0.1-1:amd64 (0.1.4-1build1) ...\n",
            "Setting up netpbm (2:10.0-15.3build1) ...\n",
            "Setting up libgslcblas0:amd64 (2.4+dfsg-6) ...\n",
            "Setting up libwmf0.2-7:amd64 (0.2.8.4-12) ...\n",
            "Setting up libsigc++-2.0-0v5:amd64 (2.10.0-2) ...\n",
            "Setting up python-webencodings (0.5-2) ...\n",
            "Setting up libcairomm-1.0-1v5:amd64 (1.12.2-3) ...\n",
            "Setting up libgtk2.0-0:amd64 (2.24.32-1ubuntu1) ...\n",
            "Setting up python-chardet (3.0.4-1) ...\n",
            "Setting up libmagickcore-6.q16-3:amd64 (8:6.9.7.4+dfsg-16ubuntu6.14) ...\n",
            "Setting up libgail18:amd64 (2.24.32-1ubuntu1) ...\n",
            "Setting up libgsl23:amd64 (2.4+dfsg-6) ...\n",
            "Setting up libdjvulibre21:amd64 (3.5.27.1-8ubuntu0.4) ...\n",
            "Setting up dictionaries-common (1.27.2) ...\n",
            "Setting up libvisio-0.1-1:amd64 (0.1.6-1build1) ...\n",
            "Setting up libwpd-0.10-10:amd64 (0.10.2-2) ...\n",
            "Setting up fig2dev (1:3.2.6a-6ubuntu1) ...\n",
            "Setting up python3-scour (0.36-2) ...\n",
            "/usr/lib/python3.8/subprocess.py:842: RuntimeWarning: line buffering (buffering=1) isn't supported in binary mode, the default buffer size will be used\n",
            "  self.stdin = io.open(p2cwrite, 'wb', bufsize)\n",
            "Setting up scour (0.36-2) ...\n",
            "Setting up libgail-common:amd64 (2.24.32-1ubuntu1) ...\n",
            "Setting up libwmf-bin (0.2.8.4-12) ...\n",
            "Setting up transfig (1:3.2.6a-6ubuntu1) ...\n",
            "Setting up python-scour (0.36-2) ...\n",
            "Setting up libmagickwand-6.q16-3:amd64 (8:6.9.7.4+dfsg-16ubuntu6.14) ...\n",
            "Setting up libglibmm-2.4-1v5:amd64 (2.56.0-1) ...\n",
            "Setting up libwpg-0.3-3:amd64 (0.3.1-3) ...\n",
            "Setting up python-html5lib (0.999999999-1) ...\n",
            "Setting up aspell (0.60.7~20110707-4ubuntu0.2) ...\n",
            "Setting up hunspell-en-us (1:2017.08.24) ...\n",
            "Setting up libatkmm-1.6-1v5:amd64 (2.24.2-3) ...\n",
            "Setting up libgtk2.0-bin (2.24.32-1ubuntu1) ...\n",
            "Setting up libenchant1c2a:amd64 (1.6.0-11.1) ...\n",
            "Setting up libimage-magick-q16-perl (8:6.9.7.4+dfsg-16ubuntu6.14) ...\n",
            "Setting up imagemagick-6.q16 (8:6.9.7.4+dfsg-16ubuntu6.14) ...\n",
            "update-alternatives: using /usr/bin/compare-im6.q16 to provide /usr/bin/compare (compare) in auto mode\n",
            "update-alternatives: using /usr/bin/compare-im6.q16 to provide /usr/bin/compare-im6 (compare-im6) in auto mode\n",
            "update-alternatives: using /usr/bin/animate-im6.q16 to provide /usr/bin/animate (animate) in auto mode\n",
            "update-alternatives: using /usr/bin/animate-im6.q16 to provide /usr/bin/animate-im6 (animate-im6) in auto mode\n",
            "update-alternatives: using /usr/bin/convert-im6.q16 to provide /usr/bin/convert (convert) in auto mode\n",
            "update-alternatives: using /usr/bin/convert-im6.q16 to provide /usr/bin/convert-im6 (convert-im6) in auto mode\n",
            "update-alternatives: using /usr/bin/composite-im6.q16 to provide /usr/bin/composite (composite) in auto mode\n",
            "update-alternatives: using /usr/bin/composite-im6.q16 to provide /usr/bin/composite-im6 (composite-im6) in auto mode\n",
            "update-alternatives: using /usr/bin/conjure-im6.q16 to provide /usr/bin/conjure (conjure) in auto mode\n",
            "update-alternatives: using /usr/bin/conjure-im6.q16 to provide /usr/bin/conjure-im6 (conjure-im6) in auto mode\n",
            "update-alternatives: using /usr/bin/import-im6.q16 to provide /usr/bin/import (import) in auto mode\n",
            "update-alternatives: using /usr/bin/import-im6.q16 to provide /usr/bin/import-im6 (import-im6) in auto mode\n",
            "update-alternatives: using /usr/bin/identify-im6.q16 to provide /usr/bin/identify (identify) in auto mode\n",
            "update-alternatives: using /usr/bin/identify-im6.q16 to provide /usr/bin/identify-im6 (identify-im6) in auto mode\n",
            "update-alternatives: using /usr/bin/stream-im6.q16 to provide /usr/bin/stream (stream) in auto mode\n",
            "update-alternatives: using /usr/bin/stream-im6.q16 to provide /usr/bin/stream-im6 (stream-im6) in auto mode\n",
            "update-alternatives: using /usr/bin/display-im6.q16 to provide /usr/bin/display (display) in auto mode\n",
            "update-alternatives: using /usr/bin/display-im6.q16 to provide /usr/bin/display-im6 (display-im6) in auto mode\n",
            "update-alternatives: using /usr/bin/montage-im6.q16 to provide /usr/bin/montage (montage) in auto mode\n",
            "update-alternatives: using /usr/bin/montage-im6.q16 to provide /usr/bin/montage-im6 (montage-im6) in auto mode\n",
            "update-alternatives: using /usr/bin/mogrify-im6.q16 to provide /usr/bin/mogrify (mogrify) in auto mode\n",
            "update-alternatives: using /usr/bin/mogrify-im6.q16 to provide /usr/bin/mogrify-im6 (mogrify-im6) in auto mode\n",
            "Setting up libpangomm-1.4-1v5:amd64 (2.40.1-4) ...\n",
            "Setting up libgtkmm-2.4-1v5:amd64 (1:2.24.5-2) ...\n",
            "Setting up libgtkspell0:amd64 (2.0.16-1.2) ...\n",
            "Setting up libmagick++-6.q16-7:amd64 (8:6.9.7.4+dfsg-16ubuntu6.14) ...\n",
            "Setting up libmagickcore-6.q16-3-extra:amd64 (8:6.9.7.4+dfsg-16ubuntu6.14) ...\n",
            "Setting up aspell-en (2017.08.24-0-0.1) ...\n",
            "Setting up imagemagick (8:6.9.7.4+dfsg-16ubuntu6.14) ...\n",
            "Setting up enchant (1.6.0-11.1) ...\n",
            "Setting up inkscape (0.92.3-1) ...\n",
            "Setting up libimage-magick-perl (8:6.9.7.4+dfsg-16ubuntu6.14) ...\n",
            "Processing triggers for libc-bin (2.27-3ubuntu1.6) ...\n",
            "Processing triggers for man-db (2.8.3-2ubuntu0.1) ...\n",
            "Processing triggers for hicolor-icon-theme (0.17-2) ...\n",
            "Processing triggers for fontconfig (2.12.6-0ubuntu2) ...\n",
            "Processing triggers for mime-support (3.60ubuntu1) ...\n",
            "Processing triggers for dictionaries-common (1.27.2) ...\n",
            "aspell-autobuildhash: processing: en [en-common].\n",
            "aspell-autobuildhash: processing: en [en-variant_0].\n",
            "aspell-autobuildhash: processing: en [en-variant_1].\n",
            "aspell-autobuildhash: processing: en [en-variant_2].\n",
            "aspell-autobuildhash: processing: en [en-w_accents-only].\n",
            "aspell-autobuildhash: processing: en [en-wo_accents-only].\n",
            "aspell-autobuildhash: processing: en [en_AU-variant_0].\n",
            "aspell-autobuildhash: processing: en [en_AU-variant_1].\n",
            "aspell-autobuildhash: processing: en [en_AU-w_accents-only].\n",
            "aspell-autobuildhash: processing: en [en_AU-wo_accents-only].\n",
            "aspell-autobuildhash: processing: en [en_CA-variant_0].\n",
            "aspell-autobuildhash: processing: en [en_CA-variant_1].\n",
            "aspell-autobuildhash: processing: en [en_CA-w_accents-only].\n",
            "aspell-autobuildhash: processing: en [en_CA-wo_accents-only].\n",
            "aspell-autobuildhash: processing: en [en_GB-ise-w_accents-only].\n",
            "aspell-autobuildhash: processing: en [en_GB-ise-wo_accents-only].\n",
            "aspell-autobuildhash: processing: en [en_GB-ize-w_accents-only].\n",
            "aspell-autobuildhash: processing: en [en_GB-ize-wo_accents-only].\n",
            "aspell-autobuildhash: processing: en [en_GB-variant_0].\n",
            "aspell-autobuildhash: processing: en [en_GB-variant_1].\n",
            "aspell-autobuildhash: processing: en [en_US-w_accents-only].\n",
            "aspell-autobuildhash: processing: en [en_US-wo_accents-only].\n",
            "'universe' distribution component is already enabled for all sources.\n",
            " The Inkscape Stable PPA is intended to provide the current supported release of Inkscape.\n",
            " More info: https://launchpad.net/~inkscape.dev/+archive/ubuntu/stable\n",
            "Press [ENTER] to continue or Ctrl-c to cancel adding it.\n",
            "\n",
            "Hit:1 https://cloud.r-project.org/bin/linux/ubuntu bionic-cran40/ InRelease\n",
            "Ign:2 https://developer.download.nvidia.com/compute/machine-learning/repos/ubuntu1804/x86_64  InRelease\n",
            "Hit:3 https://developer.download.nvidia.com/compute/cuda/repos/ubuntu1804/x86_64  InRelease\n",
            "Hit:4 https://developer.download.nvidia.com/compute/machine-learning/repos/ubuntu1804/x86_64  Release\n",
            "Hit:5 http://ppa.launchpad.net/c2d4u.team/c2d4u4.0+/ubuntu bionic InRelease\n",
            "Hit:6 http://security.ubuntu.com/ubuntu bionic-security InRelease\n",
            "Hit:7 http://ppa.launchpad.net/cran/libgit2/ubuntu bionic InRelease\n",
            "Hit:8 http://archive.ubuntu.com/ubuntu bionic InRelease\n",
            "Hit:9 http://ppa.launchpad.net/deadsnakes/ppa/ubuntu bionic InRelease\n",
            "Hit:10 http://archive.ubuntu.com/ubuntu bionic-updates InRelease\n",
            "Hit:12 http://archive.ubuntu.com/ubuntu bionic-backports InRelease\n",
            "Hit:13 http://ppa.launchpad.net/graphics-drivers/ppa/ubuntu bionic InRelease\n",
            "Get:14 http://ppa.launchpad.net/inkscape.dev/stable/ubuntu bionic InRelease [15.4 kB]\n",
            "Get:15 http://ppa.launchpad.net/inkscape.dev/stable/ubuntu bionic/main amd64 Packages [960 B]\n",
            "Fetched 16.3 kB in 3s (4,857 B/s)\n",
            "Reading package lists... Done\n",
            "Hit:1 https://cloud.r-project.org/bin/linux/ubuntu bionic-cran40/ InRelease\n",
            "Ign:2 https://developer.download.nvidia.com/compute/machine-learning/repos/ubuntu1804/x86_64  InRelease\n",
            "Hit:3 https://developer.download.nvidia.com/compute/cuda/repos/ubuntu1804/x86_64  InRelease\n",
            "Hit:4 https://developer.download.nvidia.com/compute/machine-learning/repos/ubuntu1804/x86_64  Release\n",
            "Hit:5 http://security.ubuntu.com/ubuntu bionic-security InRelease\n",
            "Hit:6 http://ppa.launchpad.net/c2d4u.team/c2d4u4.0+/ubuntu bionic InRelease\n",
            "Hit:7 http://archive.ubuntu.com/ubuntu bionic InRelease\n",
            "Hit:8 http://ppa.launchpad.net/cran/libgit2/ubuntu bionic InRelease\n",
            "Hit:9 http://archive.ubuntu.com/ubuntu bionic-updates InRelease\n",
            "Hit:10 http://archive.ubuntu.com/ubuntu bionic-backports InRelease\n",
            "Hit:11 http://ppa.launchpad.net/deadsnakes/ppa/ubuntu bionic InRelease\n",
            "Hit:13 http://ppa.launchpad.net/graphics-drivers/ppa/ubuntu bionic InRelease\n",
            "Hit:14 http://ppa.launchpad.net/inkscape.dev/stable/ubuntu bionic InRelease\n",
            "Reading package lists... Done\n",
            "Reading package lists... Done\n",
            "Building dependency tree       \n",
            "Reading state information... Done\n",
            "The following packages were automatically installed and are no longer required:\n",
            "  fig2dev libdbus-glib-1-2 libgtkmm-2.4-1v5 libgtkspell0 libnvidia-common-460\n",
            "  python-bs4 python-chardet python-html5lib python-lxml python-pkg-resources\n",
            "  python-scour python-six python-webencodings scour transfig\n",
            "Use 'apt autoremove' to remove them.\n",
            "The following additional packages will be installed:\n",
            "  adwaita-icon-theme-full libgdl-3-5 libgdl-3-common libgtkmm-3.0-1v5\n",
            "  libgtkspell3-3-0 python3-bs4 python3-chardet python3-html5lib python3-lxml\n",
            "  python3-numpy python3-webencodings\n",
            "Suggested packages:\n",
            "  dia | dia-gnome libsvg-perl libxml-xql-perl python3-serial pstoedit\n",
            "  python3-genshi python3-lxml-dbg python-lxml-doc python-numpy-doc\n",
            "  python3-nose python3-numpy-dbg\n",
            "The following NEW packages will be installed:\n",
            "  adwaita-icon-theme-full libgdl-3-5 libgdl-3-common libgtkmm-3.0-1v5\n",
            "  libgtkspell3-3-0 python3-bs4 python3-chardet python3-html5lib python3-lxml\n",
            "  python3-numpy python3-webencodings\n",
            "The following packages will be upgraded:\n",
            "  inkscape\n",
            "1 upgraded, 11 newly installed, 0 to remove and 20 not upgraded.\n",
            "Need to get 29.4 MB of archives.\n",
            "After this operation, 80.5 MB of additional disk space will be used.\n",
            "Get:1 http://ppa.launchpad.net/inkscape.dev/stable/ubuntu bionic/main amd64 inkscape amd64 1.0.2+r75+1~ubuntu18.04.1 [17.0 MB]\n",
            "Get:2 http://archive.ubuntu.com/ubuntu bionic/universe amd64 adwaita-icon-theme-full all 3.28.0-1ubuntu1 [7,999 kB]\n",
            "Get:3 http://archive.ubuntu.com/ubuntu bionic/universe amd64 libgdl-3-common all 3.28.0-1 [128 kB]\n",
            "Get:4 http://archive.ubuntu.com/ubuntu bionic/universe amd64 libgdl-3-5 amd64 3.28.0-1 [75.8 kB]\n",
            "Get:5 http://archive.ubuntu.com/ubuntu bionic/main amd64 libgtkmm-3.0-1v5 amd64 3.22.2-2 [850 kB]\n",
            "Get:6 http://archive.ubuntu.com/ubuntu bionic/universe amd64 libgtkspell3-3-0 amd64 3.0.9-2 [28.9 kB]\n",
            "Get:7 http://archive.ubuntu.com/ubuntu bionic/main amd64 python3-bs4 all 4.6.0-1 [67.8 kB]\n",
            "Get:8 http://archive.ubuntu.com/ubuntu bionic/main amd64 python3-chardet all 3.0.4-1 [80.3 kB]\n",
            "Get:9 http://archive.ubuntu.com/ubuntu bionic/main amd64 python3-webencodings all 0.5-2 [10.4 kB]\n",
            "Get:10 http://archive.ubuntu.com/ubuntu bionic/main amd64 python3-html5lib all 0.999999999-1 [81.9 kB]\n",
            "Get:11 http://archive.ubuntu.com/ubuntu bionic-updates/main amd64 python3-lxml amd64 4.2.1-1ubuntu0.6 [1,098 kB]\n",
            "Get:12 http://archive.ubuntu.com/ubuntu bionic/main amd64 python3-numpy amd64 1:1.13.3-2ubuntu1 [1,943 kB]\n",
            "Fetched 29.4 MB in 2s (16.8 MB/s)\n",
            "Selecting previously unselected package adwaita-icon-theme-full.\n",
            "(Reading database ... 153690 files and directories currently installed.)\n",
            "Preparing to unpack .../00-adwaita-icon-theme-full_3.28.0-1ubuntu1_all.deb ...\n",
            "Unpacking adwaita-icon-theme-full (3.28.0-1ubuntu1) ...\n",
            "Selecting previously unselected package libgdl-3-common.\n",
            "Preparing to unpack .../01-libgdl-3-common_3.28.0-1_all.deb ...\n",
            "Unpacking libgdl-3-common (3.28.0-1) ...\n",
            "Selecting previously unselected package libgdl-3-5:amd64.\n",
            "Preparing to unpack .../02-libgdl-3-5_3.28.0-1_amd64.deb ...\n",
            "Unpacking libgdl-3-5:amd64 (3.28.0-1) ...\n",
            "Selecting previously unselected package libgtkmm-3.0-1v5:amd64.\n",
            "Preparing to unpack .../03-libgtkmm-3.0-1v5_3.22.2-2_amd64.deb ...\n",
            "Unpacking libgtkmm-3.0-1v5:amd64 (3.22.2-2) ...\n",
            "Selecting previously unselected package libgtkspell3-3-0:amd64.\n",
            "Preparing to unpack .../04-libgtkspell3-3-0_3.0.9-2_amd64.deb ...\n",
            "Unpacking libgtkspell3-3-0:amd64 (3.0.9-2) ...\n",
            "Preparing to unpack .../05-inkscape_1.0.2+r75+1~ubuntu18.04.1_amd64.deb ...\n",
            "Unpacking inkscape (1.0.2+r75+1~ubuntu18.04.1) over (0.92.3-1) ...\n",
            "Selecting previously unselected package python3-bs4.\n",
            "Preparing to unpack .../06-python3-bs4_4.6.0-1_all.deb ...\n",
            "Unpacking python3-bs4 (4.6.0-1) ...\n",
            "Selecting previously unselected package python3-chardet.\n",
            "Preparing to unpack .../07-python3-chardet_3.0.4-1_all.deb ...\n",
            "Unpacking python3-chardet (3.0.4-1) ...\n",
            "Selecting previously unselected package python3-webencodings.\n",
            "Preparing to unpack .../08-python3-webencodings_0.5-2_all.deb ...\n",
            "Unpacking python3-webencodings (0.5-2) ...\n",
            "Selecting previously unselected package python3-html5lib.\n",
            "Preparing to unpack .../09-python3-html5lib_0.999999999-1_all.deb ...\n",
            "Unpacking python3-html5lib (0.999999999-1) ...\n",
            "Selecting previously unselected package python3-lxml:amd64.\n",
            "Preparing to unpack .../10-python3-lxml_4.2.1-1ubuntu0.6_amd64.deb ...\n",
            "Unpacking python3-lxml:amd64 (4.2.1-1ubuntu0.6) ...\n",
            "Selecting previously unselected package python3-numpy.\n",
            "Preparing to unpack .../11-python3-numpy_1%3a1.13.3-2ubuntu1_amd64.deb ...\n",
            "Unpacking python3-numpy (1:1.13.3-2ubuntu1) ...\n",
            "Setting up python3-webencodings (0.5-2) ...\n",
            "/usr/lib/python3.8/subprocess.py:842: RuntimeWarning: line buffering (buffering=1) isn't supported in binary mode, the default buffer size will be used\n",
            "  self.stdin = io.open(p2cwrite, 'wb', bufsize)\n",
            "Setting up python3-lxml:amd64 (4.2.1-1ubuntu0.6) ...\n",
            "/usr/lib/python3.8/subprocess.py:842: RuntimeWarning: line buffering (buffering=1) isn't supported in binary mode, the default buffer size will be used\n",
            "  self.stdin = io.open(p2cwrite, 'wb', bufsize)\n",
            "Setting up python3-numpy (1:1.13.3-2ubuntu1) ...\n",
            "/usr/lib/python3.8/subprocess.py:842: RuntimeWarning: line buffering (buffering=1) isn't supported in binary mode, the default buffer size will be used\n",
            "  self.stdin = io.open(p2cwrite, 'wb', bufsize)\n",
            "Setting up libgtkmm-3.0-1v5:amd64 (3.22.2-2) ...\n",
            "Setting up python3-bs4 (4.6.0-1) ...\n",
            "/usr/lib/python3.8/subprocess.py:842: RuntimeWarning: line buffering (buffering=1) isn't supported in binary mode, the default buffer size will be used\n",
            "  self.stdin = io.open(p2cwrite, 'wb', bufsize)\n",
            "Setting up libgdl-3-common (3.28.0-1) ...\n",
            "Setting up python3-chardet (3.0.4-1) ...\n",
            "/usr/lib/python3.8/subprocess.py:842: RuntimeWarning: line buffering (buffering=1) isn't supported in binary mode, the default buffer size will be used\n",
            "  self.stdin = io.open(p2cwrite, 'wb', bufsize)\n",
            "Setting up python3-html5lib (0.999999999-1) ...\n",
            "/usr/lib/python3.8/subprocess.py:842: RuntimeWarning: line buffering (buffering=1) isn't supported in binary mode, the default buffer size will be used\n",
            "  self.stdin = io.open(p2cwrite, 'wb', bufsize)\n",
            "Setting up libgtkspell3-3-0:amd64 (3.0.9-2) ...\n",
            "Setting up libgdl-3-5:amd64 (3.28.0-1) ...\n",
            "Setting up inkscape (1.0.2+r75+1~ubuntu18.04.1) ...\n",
            "Setting up adwaita-icon-theme-full (3.28.0-1ubuntu1) ...\n",
            "Processing triggers for libc-bin (2.27-3ubuntu1.6) ...\n",
            "Processing triggers for man-db (2.8.3-2ubuntu0.1) ...\n",
            "Processing triggers for hicolor-icon-theme (0.17-2) ...\n",
            "Processing triggers for mime-support (3.60ubuntu1) ...\n"
          ]
        }
      ]
    },
    {
      "cell_type": "code",
      "source": [
        "!apt-get install texlive-xetex texlive-fonts-recommended texlive-generic-recommended"
      ],
      "metadata": {
        "colab": {
          "base_uri": "https://localhost:8080/"
        },
        "id": "m2kvhPNw_HWp",
        "outputId": "d04eb82d-678c-47df-9da9-ccbd27648c10"
      },
      "execution_count": 214,
      "outputs": [
        {
          "output_type": "stream",
          "name": "stdout",
          "text": [
            "Reading package lists... Done\n",
            "Building dependency tree       \n",
            "Reading state information... Done\n",
            "texlive-fonts-recommended is already the newest version (2017.20180305-1).\n",
            "texlive-fonts-recommended set to manually installed.\n",
            "texlive-xetex is already the newest version (2017.20180305-1).\n",
            "The following packages were automatically installed and are no longer required:\n",
            "  fig2dev libdbus-glib-1-2 libgtkmm-2.4-1v5 libgtkspell0 libnvidia-common-460\n",
            "  python-bs4 python-chardet python-html5lib python-lxml python-pkg-resources\n",
            "  python-scour python-six python-webencodings scour transfig\n",
            "Use 'apt autoremove' to remove them.\n",
            "The following NEW packages will be installed:\n",
            "  texlive-generic-recommended\n",
            "0 upgraded, 1 newly installed, 0 to remove and 20 not upgraded.\n",
            "Need to get 15.9 kB of archives.\n",
            "After this operation, 69.6 kB of additional disk space will be used.\n",
            "Get:1 http://archive.ubuntu.com/ubuntu bionic/universe amd64 texlive-generic-recommended all 2017.20180305-1 [15.9 kB]\n",
            "Fetched 15.9 kB in 0s (47.1 kB/s)\n",
            "Selecting previously unselected package texlive-generic-recommended.\n",
            "(Reading database ... 160719 files and directories currently installed.)\n",
            "Preparing to unpack .../texlive-generic-recommended_2017.20180305-1_all.deb ...\n",
            "Unpacking texlive-generic-recommended (2017.20180305-1) ...\n",
            "Setting up texlive-generic-recommended (2017.20180305-1) ...\n"
          ]
        }
      ]
    },
    {
      "cell_type": "code",
      "source": [
        "!jupyter nbconvert --to PDF 'Loan Predictor better accuracy.ipynb'"
      ],
      "metadata": {
        "colab": {
          "base_uri": "https://localhost:8080/"
        },
        "id": "FaE2CdU1_JqD",
        "outputId": "7eff0ceb-2260-4aff-a5ce-7abf8c22a344"
      },
      "execution_count": 215,
      "outputs": [
        {
          "output_type": "stream",
          "name": "stdout",
          "text": [
            "[NbConvertApp] WARNING | pattern 'Loan Predictor better accuracy.ipynb' matched no files\n",
            "This application is used to convert notebook files (*.ipynb)\n",
            "        to various other formats.\n",
            "\n",
            "        WARNING: THE COMMANDLINE INTERFACE MAY CHANGE IN FUTURE RELEASES.\n",
            "\n",
            "Options\n",
            "=======\n",
            "The options below are convenience aliases to configurable class-options,\n",
            "as listed in the \"Equivalent to\" description-line of the aliases.\n",
            "To see all configurable class-options for some <cmd>, use:\n",
            "    <cmd> --help-all\n",
            "\n",
            "--debug\n",
            "    set log level to logging.DEBUG (maximize logging output)\n",
            "    Equivalent to: [--Application.log_level=10]\n",
            "--show-config\n",
            "    Show the application's configuration (human-readable format)\n",
            "    Equivalent to: [--Application.show_config=True]\n",
            "--show-config-json\n",
            "    Show the application's configuration (json format)\n",
            "    Equivalent to: [--Application.show_config_json=True]\n",
            "--generate-config\n",
            "    generate default config file\n",
            "    Equivalent to: [--JupyterApp.generate_config=True]\n",
            "-y\n",
            "    Answer yes to any questions instead of prompting.\n",
            "    Equivalent to: [--JupyterApp.answer_yes=True]\n",
            "--execute\n",
            "    Execute the notebook prior to export.\n",
            "    Equivalent to: [--ExecutePreprocessor.enabled=True]\n",
            "--allow-errors\n",
            "    Continue notebook execution even if one of the cells throws an error and include the error message in the cell output (the default behaviour is to abort conversion). This flag is only relevant if '--execute' was specified, too.\n",
            "    Equivalent to: [--ExecutePreprocessor.allow_errors=True]\n",
            "--stdin\n",
            "    read a single notebook file from stdin. Write the resulting notebook with default basename 'notebook.*'\n",
            "    Equivalent to: [--NbConvertApp.from_stdin=True]\n",
            "--stdout\n",
            "    Write notebook output to stdout instead of files.\n",
            "    Equivalent to: [--NbConvertApp.writer_class=StdoutWriter]\n",
            "--inplace\n",
            "    Run nbconvert in place, overwriting the existing notebook (only \n",
            "            relevant when converting to notebook format)\n",
            "    Equivalent to: [--NbConvertApp.use_output_suffix=False --NbConvertApp.export_format=notebook --FilesWriter.build_directory=]\n",
            "--clear-output\n",
            "    Clear output of current file and save in place, \n",
            "            overwriting the existing notebook.\n",
            "    Equivalent to: [--NbConvertApp.use_output_suffix=False --NbConvertApp.export_format=notebook --FilesWriter.build_directory= --ClearOutputPreprocessor.enabled=True]\n",
            "--no-prompt\n",
            "    Exclude input and output prompts from converted document.\n",
            "    Equivalent to: [--TemplateExporter.exclude_input_prompt=True --TemplateExporter.exclude_output_prompt=True]\n",
            "--no-input\n",
            "    Exclude input cells and output prompts from converted document. \n",
            "            This mode is ideal for generating code-free reports.\n",
            "    Equivalent to: [--TemplateExporter.exclude_output_prompt=True --TemplateExporter.exclude_input=True]\n",
            "--log-level=<Enum>\n",
            "    Set the log level by value or name.\n",
            "    Choices: any of [0, 10, 20, 30, 40, 50, 'DEBUG', 'INFO', 'WARN', 'ERROR', 'CRITICAL']\n",
            "    Default: 30\n",
            "    Equivalent to: [--Application.log_level]\n",
            "--config=<Unicode>\n",
            "    Full path of a config file.\n",
            "    Default: ''\n",
            "    Equivalent to: [--JupyterApp.config_file]\n",
            "--to=<Unicode>\n",
            "    The export format to be used, either one of the built-in formats\n",
            "            ['asciidoc', 'custom', 'html', 'latex', 'markdown', 'notebook', 'pdf', 'python', 'rst', 'script', 'slides']\n",
            "            or a dotted object name that represents the import path for an\n",
            "            `Exporter` class\n",
            "    Default: 'html'\n",
            "    Equivalent to: [--NbConvertApp.export_format]\n",
            "--template=<Unicode>\n",
            "    Name of the template file to use\n",
            "    Default: ''\n",
            "    Equivalent to: [--TemplateExporter.template_file]\n",
            "--writer=<DottedObjectName>\n",
            "    Writer class used to write the \n",
            "                                        results of the conversion\n",
            "    Default: 'FilesWriter'\n",
            "    Equivalent to: [--NbConvertApp.writer_class]\n",
            "--post=<DottedOrNone>\n",
            "    PostProcessor class used to write the\n",
            "                                        results of the conversion\n",
            "    Default: ''\n",
            "    Equivalent to: [--NbConvertApp.postprocessor_class]\n",
            "--output=<Unicode>\n",
            "    overwrite base name use for output files.\n",
            "                can only be used when converting one notebook at a time.\n",
            "    Default: ''\n",
            "    Equivalent to: [--NbConvertApp.output_base]\n",
            "--output-dir=<Unicode>\n",
            "    Directory to write output(s) to. Defaults\n",
            "                                  to output to the directory of each notebook. To recover\n",
            "                                  previous default behaviour (outputting to the current \n",
            "                                  working directory) use . as the flag value.\n",
            "    Default: ''\n",
            "    Equivalent to: [--FilesWriter.build_directory]\n",
            "--reveal-prefix=<Unicode>\n",
            "    The URL prefix for reveal.js (version 3.x).\n",
            "            This defaults to the reveal CDN, but can be any url pointing to a copy \n",
            "            of reveal.js. \n",
            "            For speaker notes to work, this must be a relative path to a local \n",
            "            copy of reveal.js: e.g., \"reveal.js\".\n",
            "            If a relative path is given, it must be a subdirectory of the\n",
            "            current directory (from which the server is run).\n",
            "            See the usage documentation\n",
            "            (https://nbconvert.readthedocs.io/en/latest/usage.html#reveal-js-html-slideshow)\n",
            "            for more details.\n",
            "    Default: ''\n",
            "    Equivalent to: [--SlidesExporter.reveal_url_prefix]\n",
            "--nbformat=<Enum>\n",
            "    The nbformat version to write.\n",
            "            Use this to downgrade notebooks.\n",
            "    Choices: any of [1, 2, 3, 4]\n",
            "    Default: 4\n",
            "    Equivalent to: [--NotebookExporter.nbformat_version]\n",
            "\n",
            "Examples\n",
            "--------\n",
            "\n",
            "    The simplest way to use nbconvert is\n",
            "\n",
            "            > jupyter nbconvert mynotebook.ipynb\n",
            "\n",
            "            which will convert mynotebook.ipynb to the default format (probably HTML).\n",
            "\n",
            "            You can specify the export format with `--to`.\n",
            "            Options include ['asciidoc', 'custom', 'html', 'latex', 'markdown', 'notebook', 'pdf', 'python', 'rst', 'script', 'slides'].\n",
            "\n",
            "            > jupyter nbconvert --to latex mynotebook.ipynb\n",
            "\n",
            "            Both HTML and LaTeX support multiple output templates. LaTeX includes\n",
            "            'base', 'article' and 'report'.  HTML includes 'basic' and 'full'. You\n",
            "            can specify the flavor of the format used.\n",
            "\n",
            "            > jupyter nbconvert --to html --template basic mynotebook.ipynb\n",
            "\n",
            "            You can also pipe the output to stdout, rather than a file\n",
            "\n",
            "            > jupyter nbconvert mynotebook.ipynb --stdout\n",
            "\n",
            "            PDF is generated via latex\n",
            "\n",
            "            > jupyter nbconvert mynotebook.ipynb --to pdf\n",
            "\n",
            "            You can get (and serve) a Reveal.js-powered slideshow\n",
            "\n",
            "            > jupyter nbconvert myslides.ipynb --to slides --post serve\n",
            "\n",
            "            Multiple notebooks can be given at the command line in a couple of \n",
            "            different ways:\n",
            "\n",
            "            > jupyter nbconvert notebook*.ipynb\n",
            "            > jupyter nbconvert notebook1.ipynb notebook2.ipynb\n",
            "\n",
            "            or you can specify the notebooks list in a config file, containing::\n",
            "\n",
            "                c.NbConvertApp.notebooks = [\"my_notebook.ipynb\"]\n",
            "\n",
            "            > jupyter nbconvert --config mycfg.py\n",
            "\n",
            "To see all available configurables, use `--help-all`.\n",
            "\n"
          ]
        }
      ]
    },
    {
      "cell_type": "code",
      "source": [],
      "metadata": {
        "id": "Fu0cMrsZ_ztA"
      },
      "execution_count": null,
      "outputs": []
    }
  ],
  "metadata": {
    "kernelspec": {
      "display_name": "Python 3",
      "language": "python",
      "name": "python3"
    },
    "language_info": {
      "codemirror_mode": {
        "name": "ipython",
        "version": 3
      },
      "file_extension": ".py",
      "mimetype": "text/x-python",
      "name": "python",
      "nbconvert_exporter": "python",
      "pygments_lexer": "ipython3",
      "version": "3.8.5"
    },
    "colab": {
      "provenance": [],
      "include_colab_link": true
    }
  },
  "nbformat": 4,
  "nbformat_minor": 0
}