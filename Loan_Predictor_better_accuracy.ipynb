{
  "cells": [
    {
      "cell_type": "markdown",
      "metadata": {
        "id": "view-in-github",
        "colab_type": "text"
      },
      "source": [
        "<a href=\"https://colab.research.google.com/github/aditya5172/Bank-Loan-Prediction/blob/main/Loan_Predictor_better_accuracy.ipynb\" target=\"_parent\"><img src=\"https://colab.research.google.com/assets/colab-badge.svg\" alt=\"Open In Colab\"/></a>"
      ]
    },
    {
      "cell_type": "code",
      "execution_count": 1,
      "metadata": {
        "id": "69lL7yeUk7Gf"
      },
      "outputs": [],
      "source": [
        "import numpy as np\n",
        "import pandas as pd\n",
        "import matplotlib.pyplot as plt\n",
        "import seaborn as sns\n",
        "sns.set()\n",
        "\n",
        "import joblib\n",
        "import xgboost as xgb"
      ]
    },
    {
      "cell_type": "code",
      "execution_count": 2,
      "metadata": {
        "id": "JRiWI7qHk7Gk"
      },
      "outputs": [],
      "source": [
        "from sklearn.model_selection import train_test_split\n",
        "from sklearn.compose import ColumnTransformer\n",
        "from sklearn.impute import SimpleImputer\n",
        "from sklearn.preprocessing import OneHotEncoder, LabelEncoder\n",
        "from sklearn.pipeline import Pipeline\n",
        "from sklearn.feature_selection import mutual_info_classif,SelectKBest,chi2,f_classif\n",
        "from sklearn.tree import DecisionTreeClassifier, plot_tree\n",
        "from sklearn.model_selection import cross_val_score, GridSearchCV, ParameterGrid\n",
        "from sklearn.metrics import make_scorer, accuracy_score, classification_report, confusion_matrix\n",
        "from sklearn.ensemble import AdaBoostClassifier,GradientBoostingClassifier"
      ]
    },
    {
      "cell_type": "code",
      "execution_count": 3,
      "metadata": {
        "id": "jdzeymNAk7Gl"
      },
      "outputs": [],
      "source": [
        "train=pd.read_csv('train.csv')\n",
        "test=pd.read_csv('test.csv')"
      ]
    },
    {
      "cell_type": "code",
      "execution_count": 4,
      "metadata": {
        "id": "iKX4RKyzk7G6"
      },
      "outputs": [],
      "source": [
        "from sklearn.utils import resample\n",
        "majority=train[(train['Loan_Status']=='Y')]\n",
        "minority=train[(train['Loan_Status']=='N')]\n",
        "\n",
        "y_minority_upsampled=resample(minority,\n",
        "                               replace=True,\n",
        "                               n_samples=len(majority),\n",
        "                               random_state=42)\n",
        "\n",
        "df_upsampled=pd.concat([y_minority_upsampled,majority])\n"
      ]
    },
    {
      "cell_type": "code",
      "execution_count": 5,
      "metadata": {
        "id": "aLD2wGijk7G7"
      },
      "outputs": [],
      "source": [
        "X=df_upsampled.drop(['Loan_ID','Loan_Status'],axis=1)\n",
        "y=df_upsampled['Loan_Status']\n",
        "\n",
        "X_train,X_test,y_train,y_test=train_test_split(X,y,test_size=0.3)"
      ]
    },
    {
      "cell_type": "code",
      "execution_count": 7,
      "metadata": {
        "id": "b6v_8yXpk7G7"
      },
      "outputs": [],
      "source": [
        "trf1=ColumnTransformer(transformers=[\n",
        "    ('b1',SimpleImputer(strategy='most_frequent'),[0,1,2,4,8,9]),\n",
        "    ('g1',SimpleImputer(strategy='median'),[7])\n",
        "    \n",
        "],remainder='passthrough')"
      ]
    },
    {
      "cell_type": "code",
      "execution_count": 8,
      "metadata": {
        "id": "4oomZ1TFk7G7"
      },
      "outputs": [],
      "source": [
        "X_train=trf1.fit_transform(X_train)"
      ]
    },
    {
      "cell_type": "code",
      "execution_count": 10,
      "metadata": {
        "id": "XE-_Yzytk7G8"
      },
      "outputs": [],
      "source": [
        "trf2=ColumnTransformer(transformers=[\n",
        "    ('a2',OneHotEncoder(sparse=False,handle_unknown='ignore'),[0,1,2,3,4,7,10]),\n",
        "],remainder='passthrough')"
      ]
    },
    {
      "cell_type": "code",
      "execution_count": 11,
      "metadata": {
        "id": "64GWFgvXk7G8"
      },
      "outputs": [],
      "source": [
        "X_train=trf2.fit_transform(X_train)"
      ]
    },
    {
      "cell_type": "code",
      "execution_count": 12,
      "metadata": {
        "colab": {
          "base_uri": "https://localhost:8080/",
          "height": 0
        },
        "id": "GQ87Bauxk7G8",
        "outputId": "5141a60d-edb9-44d6-ef99-fae70de827b0"
      },
      "outputs": [
        {
          "output_type": "stream",
          "name": "stderr",
          "text": [
            "/usr/local/lib/python3.8/dist-packages/sklearn/utils/deprecation.py:87: FutureWarning: Function get_feature_names is deprecated; get_feature_names is deprecated in 1.0 and will be removed in 1.2. Please use get_feature_names_out instead.\n",
            "  warnings.warn(msg, category=FutureWarning)\n"
          ]
        }
      ],
      "source": [
        "d={}\n",
        "x=X_train.T\n",
        "for i in range(0,len(trf2.get_feature_names())):\n",
        "    d[trf2.get_feature_names()[i]]=x[i]\n",
        "d=pd.DataFrame(d)"
      ]
    },
    {
      "cell_type": "code",
      "execution_count": 13,
      "metadata": {
        "id": "Ul-YsrFGk7G9"
      },
      "outputs": [],
      "source": [
        "X_test=trf1.transform(X_test)\n",
        "X_test=trf2.transform(X_test)"
      ]
    },
    {
      "cell_type": "code",
      "execution_count": 29,
      "metadata": {
        "id": "A_UADoxvk7G9"
      },
      "outputs": [],
      "source": [
        "from sklearn.feature_selection import SelectKBest\n",
        "from sklearn.feature_selection import mutual_info_classif\n",
        "\n",
        "def sk(ii):\n",
        "  xy={}\n",
        "  for i in range(len(X_train.T)):\n",
        "      xy[str(i)] = X_train.T[i]\n",
        "  xy=pd.DataFrame(xy)\n",
        "  sel_col=SelectKBest(mutual_info_classif,k=ii)\n",
        "  sel_col.fit(xy,y_train)\n",
        "  feature_selected_columns=xy.columns[sel_col.get_support()]\n",
        "  xyz={}\n",
        "  for i in range(len(X_test.T)):\n",
        "      xyz[str(i)] = X_test.T[i]\n",
        "  xyz=pd.DataFrame(xyz)\n",
        "  mutual_info = mutual_info_classif(xy,y_train)\n",
        "  mutual_info = pd.Series(mutual_info)\n",
        "  mutual_info.index=xy.columns\n",
        "  xy=xy[feature_selected_columns]\n",
        "  xyz=xyz[feature_selected_columns]\n",
        "  \n",
        "  return xy,xyz"
      ]
    },
    {
      "cell_type": "code",
      "execution_count": 34,
      "metadata": {
        "id": "NYn_UI5Zk7G9"
      },
      "outputs": [],
      "source": [
        "xy,xyz=sk(10)"
      ]
    },
    {
      "cell_type": "code",
      "execution_count": 33,
      "metadata": {
        "id": "mf8qHMlNk7G9"
      },
      "outputs": [],
      "source": [
        "from sklearn.model_selection import KFold, cross_val_score\n",
        "k_folds = KFold(n_splits = 5)"
      ]
    },
    {
      "cell_type": "code",
      "source": [],
      "metadata": {
        "id": "jMvUF_4indfJ"
      },
      "execution_count": null,
      "outputs": []
    },
    {
      "cell_type": "code",
      "source": [
        "from sklearn.metrics import f1_score"
      ],
      "metadata": {
        "id": "U7XX7YyGself"
      },
      "execution_count": 71,
      "outputs": []
    },
    {
      "cell_type": "code",
      "source": [
        "from sklearn import preprocessing\n",
        "\n",
        "label_encoder = preprocessing.LabelEncoder()\n",
        "\n",
        "y_train=label_encoder.fit_transform(y_train)\n",
        "y_test=label_encoder.fit_transform(y_test)"
      ],
      "metadata": {
        "id": "IgtjsBo92szu"
      },
      "execution_count": 150,
      "outputs": []
    },
    {
      "cell_type": "markdown",
      "metadata": {
        "id": "d6TK8ArZk7G-"
      },
      "source": [
        "# Full Tree"
      ]
    },
    {
      "cell_type": "code",
      "execution_count": 153,
      "metadata": {
        "id": "vt6ipc9ik7G_"
      },
      "outputs": [],
      "source": [
        "def tree(xy,xyz):\n",
        "  full_tree=DecisionTreeClassifier(random_state=42)\n",
        "  full_tree.fit(xy,y_train)\n",
        "  return f1_score(y_test,full_tree.predict(xyz))\n",
        "  "
      ]
    },
    {
      "cell_type": "markdown",
      "metadata": {
        "id": "6iBcptYBk7G_"
      },
      "source": [
        "# Post Purning"
      ]
    },
    {
      "cell_type": "code",
      "execution_count": 154,
      "metadata": {
        "id": "0QtkEp3Vk7G_"
      },
      "outputs": [],
      "source": [
        "def post_p(xy,xyz):\n",
        "  full_tree=DecisionTreeClassifier(random_state=42)\n",
        "  #full_tree.fit(xy,y_train)\n",
        "  ccp_alpha=full_tree.cost_complexity_pruning_path(xy,y_train)[\"ccp_alphas\"]\n",
        "  ccp_alpha_grid_search=GridSearchCV(\n",
        "      estimator=DecisionTreeClassifier(random_state=42),\n",
        "      scoring=make_scorer(accuracy_score),\n",
        "      param_grid=ParameterGrid({\"ccp_alpha\":[[alpha] for alpha in ccp_alpha]}),\n",
        "  )\n",
        "  ccp_alpha_grid_search.fit(xy,y_train)\n",
        "  best_ccp=ccp_alpha_grid_search.best_estimator_\n",
        "  return f1_score(y_test,best_ccp.predict(xyz)) #post purning\n",
        "  "
      ]
    },
    {
      "cell_type": "markdown",
      "metadata": {
        "id": "1M1lkHlok7HC"
      },
      "source": [
        "# Pre Purning Split"
      ]
    },
    {
      "cell_type": "code",
      "execution_count": 155,
      "metadata": {
        "id": "gPPkgeTjk7HC"
      },
      "outputs": [],
      "source": [
        "def pre_p_s(xy,xyz):\n",
        "  mini_samples_split_grid_search=GridSearchCV(\n",
        "                              estimator=DecisionTreeClassifier(random_state=42),\n",
        "      scoring=make_scorer(accuracy_score),\n",
        "      param_grid=ParameterGrid({\n",
        "          \"min_samples_split\":[\n",
        "              [m] for m in np.arange(0.0001,1,0.025)\n",
        "          ]\n",
        "      })\n",
        "  )\n",
        "  mini_samples_split_grid_search.fit(xy,y_train)\n",
        "  best_pre=mini_samples_split_grid_search.best_estimator_\n",
        "  return f1_score(y_test,best_pre.predict(xyz)) # pre purning split\n",
        "  "
      ]
    },
    {
      "cell_type": "code",
      "execution_count": 155,
      "metadata": {
        "id": "3CP52lzWk7HC"
      },
      "outputs": [],
      "source": []
    },
    {
      "cell_type": "markdown",
      "metadata": {
        "id": "J7z9amdCk7HE"
      },
      "source": [
        "# Pre purning leaf"
      ]
    },
    {
      "cell_type": "code",
      "execution_count": 156,
      "metadata": {
        "id": "yjPu5jPqk7HE"
      },
      "outputs": [],
      "source": [
        "def pre_p_l(xy,xyz):\n",
        "  mini_samples_leaf_grid_search=GridSearchCV(\n",
        "  estimator=DecisionTreeClassifier(random_state=42),\n",
        "      scoring=make_scorer(accuracy_score),\n",
        "      param_grid=ParameterGrid({\n",
        "          \"min_samples_leaf\":[\n",
        "              [m] for m in np.arange(0.0001,0.5,0.025)\n",
        "          ]\n",
        "      })\n",
        "  )\n",
        "  mini_samples_leaf_grid_search.fit(xy,y_train)\n",
        "  best_pre_leaf=mini_samples_leaf_grid_search.best_estimator_\n",
        "  return f1_score(y_test,best_pre_leaf.predict(xyz))  #pre purning leaf"
      ]
    },
    {
      "cell_type": "markdown",
      "metadata": {
        "id": "tqKImAA6k7HF"
      },
      "source": [
        "# Ada Boost"
      ]
    },
    {
      "cell_type": "code",
      "execution_count": 157,
      "metadata": {
        "id": "CjwgYtBfk7HG"
      },
      "outputs": [],
      "source": [
        " def ada(xy,xyz):\n",
        "  abc=AdaBoostClassifier(n_estimators=50,learning_rate=0.25,random_state=0)\n",
        "  abc.fit(xy,y_train)\n",
        "  return f1_score(y_test,abc.predict(xyz))"
      ]
    },
    {
      "cell_type": "markdown",
      "metadata": {
        "id": "kg6Fp0o_k7HH"
      },
      "source": [
        "# Gradient Boost"
      ]
    },
    {
      "cell_type": "code",
      "execution_count": 158,
      "metadata": {
        "id": "IExJngWTk7HH"
      },
      "outputs": [],
      "source": [
        "def grade(xy,xyz):\n",
        "  gradient_booster = GradientBoostingClassifier(learning_rate=0.30)\n",
        "  gradient_booster.fit(xy,y_train)\n",
        "  return f1_score(y_test,gradient_booster.predict(xyz))"
      ]
    },
    {
      "cell_type": "markdown",
      "metadata": {
        "id": "ztCe5BG9k7HI"
      },
      "source": [
        "# XGBoost"
      ]
    },
    {
      "cell_type": "code",
      "execution_count": 159,
      "metadata": {
        "id": "DqHKIROlk7HI"
      },
      "outputs": [],
      "source": [
        "from sklearn.model_selection import RandomizedSearchCV\n",
        "import xgboost \n",
        "def xgb(xy,xyz):\n",
        "  classifier=xgboost.XGBClassifier()#tree_method=\"gpu_hist\",enable_categorical=True)\n",
        "  model = xgboost.XGBClassifier( tree_method=\"hist\", enable_categorical=True)\n",
        "  yy=pd.get_dummies(y_train)\n",
        "  classifier.fit(xy.values,y_train)\n",
        "  y_pred=classifier.predict(xyz.values)\n",
        "  yy=pd.get_dummies(y_test)\n",
        "  return f1_score(y_test,y_pred)"
      ]
    },
    {
      "cell_type": "code",
      "source": [
        "def all():\n",
        "  xy,xyz=sk(5)\n",
        "  res={'Tree':0,'Post puring':0,'Pre Puring Leaf':0,\n",
        "       'Pre Puring Split':0,'Adaboost':0,\n",
        "       'Gradient Decent':0,'XGB':0}\n",
        "  res[\"Tree\"]=round(tree(xy,xyz)*100,2)\n",
        "  res[\"Post puring\"]=round(post_p(xy,xyz)*100,2)\n",
        "  res[\"Pre Puring Leaf\"]=round(pre_p_l(xy,xyz)*100,2)\n",
        "  res[\"Pre Puring Split\"]=round(pre_p_s(xy,xyz)*100,2)\n",
        "  res[\"Adaboost\"]=round(ada(xy,xyz)*100,2)\n",
        "  res[\"Gradient Decent\"]=round(grade(xy,xyz)*100,2)\n",
        "  res[\"XGB\"]=round(xgb(xy,xyz)*100,2)\n",
        "  return res"
      ],
      "metadata": {
        "id": "9xGJ7Pk3qVyM"
      },
      "execution_count": 191,
      "outputs": []
    },
    {
      "cell_type": "code",
      "source": [
        "res=all()"
      ],
      "metadata": {
        "id": "hcTQACdDqcEY"
      },
      "execution_count": 192,
      "outputs": []
    },
    {
      "cell_type": "code",
      "source": [
        "models = list(res.keys())\n",
        "f1 = list(res.values())\n",
        "fig = plt.figure(figsize =(15, 7))\n",
        "display(res)\n",
        "plt.bar(models, f1, color ='maroon',\n",
        "        width = 0.4)"
      ],
      "metadata": {
        "colab": {
          "base_uri": "https://localhost:8080/",
          "height": 570
        },
        "id": "2qTyhIgM4nm5",
        "outputId": "19021c39-44e4-4241-9199-2c8755e41f25"
      },
      "execution_count": 195,
      "outputs": [
        {
          "output_type": "display_data",
          "data": {
            "text/plain": [
              "{'Tree': 81.48,\n",
              " 'Post puring': 81.48,\n",
              " 'Pre Puring Leaf': 81.48,\n",
              " 'Pre Puring Split': 81.48,\n",
              " 'Adaboost': 77.03,\n",
              " 'Gradient Decent': 90.6,\n",
              " 'XGB': 81.48}"
            ]
          },
          "metadata": {}
        },
        {
          "output_type": "execute_result",
          "data": {
            "text/plain": [
              "<BarContainer object of 7 artists>"
            ]
          },
          "metadata": {},
          "execution_count": 195
        },
        {
          "output_type": "display_data",
          "data": {
            "text/plain": [
              "<Figure size 1080x504 with 1 Axes>"
            ],
            "image/png": "[encoded data removed]"
          },
          "metadata": {}
        }
      ]
    },
    {
      "cell_type": "code",
      "source": [
        "best_feature={}\n",
        "for i in range(1,30):\n",
        "  #best_feature={'1':0,'2':0,'3':0,'4':0,'5':0,'6':0,'7':0,'8':0,'9':0,'10':0,\n",
        "   #     '11':0,'12':0,'13':0,'14':0,'15':0,'16':0,'17':0,'18':0,'19':0,'20':0,\n",
        "   #     '21':0,'22':0,'23':0,'24':0,'25':0,'26':0,'27':0,'28':0,'29':0}\n",
        "  xy,xyz=sk(i)\n",
        "  best_feature[str(i)]=round(grade(xy,xyz)*100,2)\n",
        "  #print(i,grade(xy,xyz))"
      ],
      "metadata": {
        "id": "ClzWQX7wvBOG"
      },
      "execution_count": 207,
      "outputs": []
    },
    {
      "cell_type": "code",
      "source": [
        "models = list(best_feature.keys())\n",
        "f1 = list(best_feature.values())\n",
        "fig = plt.figure(figsize =(15, 7))\n",
        "display(sorted(best_feature.items(), key=lambda x:x[1],reverse = True))\n",
        "plt.bar(models, f1, color ='maroon',\n",
        "        width = 0.4)"
      ],
      "metadata": {
        "colab": {
          "base_uri": "https://localhost:8080/",
          "height": 952
        },
        "id": "0DWJxkFy9MJo",
        "outputId": "4d3bdb3e-9c31-4277-df3e-d6eb28ecdad8"
      },
      "execution_count": 208,
      "outputs": [
        {
          "output_type": "display_data",
          "data": {
            "text/plain": [
              "[('19', 91.53),\n",
              " ('9', 91.14),\n",
              " ('11', 90.3),\n",
              " ('17', 89.92),\n",
              " ('12', 89.83),\n",
              " ('23', 89.74),\n",
              " ('7', 89.45),\n",
              " ('15', 89.45),\n",
              " ('14', 89.36),\n",
              " ('21', 89.17),\n",
              " ('4', 88.98),\n",
              " ('25', 88.98),\n",
              " ('26', 88.51),\n",
              " ('27', 88.51),\n",
              " ('6', 88.41),\n",
              " ('24', 88.14),\n",
              " ('18', 87.93),\n",
              " ('13', 87.76),\n",
              " ('8', 87.72),\n",
              " ('22', 87.45),\n",
              " ('10', 86.81),\n",
              " ('20', 86.81),\n",
              " ('3', 86.58),\n",
              " ('28', 86.55),\n",
              " ('29', 86.55),\n",
              " ('16', 86.46),\n",
              " ('5', 85.84),\n",
              " ('2', 80.7),\n",
              " ('1', 74.61)]"
            ]
          },
          "metadata": {}
        },
        {
          "output_type": "execute_result",
          "data": {
            "text/plain": [
              "<BarContainer object of 29 artists>"
            ]
          },
          "metadata": {},
          "execution_count": 208
        },
        {
          "output_type": "display_data",
          "data": {
            "text/plain": [
              "<Figure size 1080x504 with 1 Axes>"
            ],
            "image/png": "[encoded data removed]"
          },
          "metadata": {}
        }
      ]
    },
    {
      "cell_type": "code",
      "execution_count": 140,
      "metadata": {
        "id": "7TOVlxmqk7HM"
      },
      "outputs": [],
      "source": [
        "x=test.drop(['Loan_ID'],axis=1)\n",
        "x=trf1.transform(x)\n",
        "x=trf2.transform(x)"
      ]
    },
    {
      "cell_type": "code",
      "execution_count": 141,
      "metadata": {
        "id": "blUJo5ick7HM"
      },
      "outputs": [],
      "source": [
        "xxy={}\n",
        "for i in range(len(x.T)):\n",
        "    xxy[str(i)]=list(x.T[i])\n",
        "xxy=pd.DataFrame(xxy)"
      ]
    },
    {
      "cell_type": "code",
      "execution_count": 144,
      "metadata": {
        "id": "4Hi0411Fk7HM"
      },
      "outputs": [],
      "source": [
        "xy,xyz=sk(12)\n",
        "xxy=xxy[xy.columns]"
      ]
    },
    {
      "cell_type": "code",
      "source": [
        "gradient_booster = GradientBoostingClassifier(learning_rate=0.30)\n",
        "gradient_booster.fit(xy,y_train)\n",
        "pp=gradient_booster.predict(xxy)"
      ],
      "metadata": {
        "id": "URoW2gJpyjR1"
      },
      "execution_count": 146,
      "outputs": []
    },
    {
      "cell_type": "code",
      "source": [
        "pp"
      ],
      "metadata": {
        "colab": {
          "base_uri": "https://localhost:8080/",
          "height": 0
        },
        "id": "x0ydk0SAzi4Z",
        "outputId": "4f3e1508-38b1-41df-faea-99967c1a2088"
      },
      "execution_count": 147,
      "outputs": [
        {
          "output_type": "execute_result",
          "data": {
            "text/plain": [
              "array(['Y', 'Y', 'Y', 'Y', 'N', 'Y', 'Y', 'N', 'Y', 'Y', 'Y', 'Y', 'Y',\n",
              "       'N', 'Y', 'Y', 'N', 'Y', 'Y', 'Y', 'Y', 'Y', 'Y', 'Y', 'N', 'N',\n",
              "       'Y', 'N', 'Y', 'Y', 'Y', 'Y', 'Y', 'Y', 'Y', 'N', 'Y', 'Y', 'Y',\n",
              "       'Y', 'Y', 'Y', 'Y', 'N', 'Y', 'Y', 'Y', 'Y', 'Y', 'N', 'Y', 'Y',\n",
              "       'Y', 'Y', 'Y', 'N', 'Y', 'Y', 'N', 'Y', 'Y', 'Y', 'Y', 'N', 'Y',\n",
              "       'Y', 'N', 'N', 'Y', 'N', 'Y', 'N', 'Y', 'Y', 'Y', 'Y', 'Y', 'Y',\n",
              "       'Y', 'Y', 'N', 'Y', 'N', 'N', 'N', 'Y', 'Y', 'Y', 'Y', 'Y', 'Y',\n",
              "       'Y', 'N', 'Y', 'N', 'Y', 'Y', 'Y', 'N', 'Y', 'Y', 'N', 'Y', 'Y',\n",
              "       'Y', 'Y', 'N', 'N', 'N', 'Y', 'Y', 'Y', 'Y', 'Y', 'Y', 'Y', 'N',\n",
              "       'N', 'N', 'N', 'N', 'Y', 'Y', 'Y', 'N', 'Y', 'N', 'Y', 'Y', 'Y',\n",
              "       'Y', 'Y', 'Y', 'Y', 'Y', 'Y', 'N', 'N', 'Y', 'Y', 'N', 'Y', 'N',\n",
              "       'N', 'Y', 'Y', 'Y', 'N', 'Y', 'Y', 'Y', 'Y', 'Y', 'N', 'Y', 'Y',\n",
              "       'Y', 'Y', 'N', 'N', 'Y', 'N', 'Y', 'N', 'Y', 'N', 'N', 'Y', 'N',\n",
              "       'Y', 'Y', 'Y', 'Y', 'N', 'N', 'Y', 'Y', 'N', 'Y', 'Y', 'Y', 'N',\n",
              "       'Y', 'Y', 'Y', 'Y', 'Y', 'Y', 'Y', 'Y', 'N', 'Y', 'N', 'N', 'Y',\n",
              "       'Y', 'N', 'Y', 'Y', 'Y', 'N', 'Y', 'Y', 'Y', 'Y', 'Y', 'Y', 'Y',\n",
              "       'N', 'N', 'N', 'Y', 'Y', 'Y', 'Y', 'Y', 'N', 'Y', 'Y', 'Y', 'Y',\n",
              "       'Y', 'Y', 'Y', 'N', 'Y', 'Y', 'Y', 'Y', 'N', 'Y', 'Y', 'Y', 'Y',\n",
              "       'Y', 'N', 'N', 'N', 'Y', 'N', 'Y', 'N', 'Y', 'Y', 'N', 'N', 'Y',\n",
              "       'Y', 'N', 'Y', 'N', 'Y', 'Y', 'Y', 'Y', 'N', 'Y', 'Y', 'Y', 'N',\n",
              "       'Y', 'Y', 'Y', 'N', 'Y', 'Y', 'N', 'Y', 'N', 'Y', 'Y', 'Y', 'N',\n",
              "       'N', 'N', 'Y', 'Y', 'Y', 'N', 'N', 'Y', 'Y', 'Y', 'N', 'N', 'Y',\n",
              "       'Y', 'Y', 'Y', 'Y', 'Y', 'Y', 'Y', 'N', 'Y', 'Y', 'Y', 'Y', 'Y',\n",
              "       'Y', 'Y', 'N', 'Y', 'Y', 'Y', 'N', 'Y', 'Y', 'Y', 'Y', 'Y', 'N',\n",
              "       'Y', 'Y', 'Y', 'Y', 'Y', 'N', 'Y', 'Y', 'Y', 'Y', 'Y', 'Y', 'Y',\n",
              "       'N', 'Y', 'Y', 'Y', 'Y', 'Y', 'Y', 'Y', 'N', 'Y', 'Y', 'Y', 'Y',\n",
              "       'Y', 'N', 'Y', 'Y', 'Y', 'Y', 'Y', 'N', 'N', 'Y', 'Y', 'Y', 'Y',\n",
              "       'N', 'Y', 'Y', 'Y', 'Y', 'Y', 'Y', 'Y', 'Y', 'Y', 'Y', 'Y', 'Y',\n",
              "       'Y', 'Y', 'Y'], dtype=object)"
            ]
          },
          "metadata": {},
          "execution_count": 147
        }
      ]
    },
    {
      "cell_type": "code",
      "execution_count": 148,
      "metadata": {
        "id": "YKZXMbETk7HN"
      },
      "outputs": [],
      "source": [
        "test['Loan Status Predicted']=0\n",
        "for i in test.index:\n",
        "  test.loc[i,'Loan Status Predicted']=pp[i]"
      ]
    },
    {
      "cell_type": "code",
      "execution_count": 149,
      "metadata": {
        "colab": {
          "base_uri": "https://localhost:8080/",
          "height": 322
        },
        "id": "0SioAeC1k7HN",
        "outputId": "dd6c453b-dcb8-42fa-c2e2-2fb21cba42d0"
      },
      "outputs": [
        {
          "output_type": "execute_result",
          "data": {
            "text/plain": [
              "    Loan_ID Gender Married Dependents     Education Self_Employed  \\\n",
              "0  LP001015   Male     Yes          0      Graduate            No   \n",
              "1  LP001022   Male     Yes          1      Graduate            No   \n",
              "2  LP001031   Male     Yes          2      Graduate            No   \n",
              "3  LP001035   Male     Yes          2      Graduate            No   \n",
              "4  LP001051   Male      No          0  Not Graduate            No   \n",
              "\n",
              "   ApplicantIncome  CoapplicantIncome  LoanAmount  Loan_Amount_Term  \\\n",
              "0             5720                  0       110.0             360.0   \n",
              "1             3076               1500       126.0             360.0   \n",
              "2             5000               1800       208.0             360.0   \n",
              "3             2340               2546       100.0             360.0   \n",
              "4             3276                  0        78.0             360.0   \n",
              "\n",
              "   Credit_History Property_Area Loan Status Predicted  \n",
              "0             1.0         Urban                     Y  \n",
              "1             1.0         Urban                     Y  \n",
              "2             1.0         Urban                     Y  \n",
              "3             NaN         Urban                     Y  \n",
              "4             1.0         Urban                     N  "
            ],
            "text/html": [
              "\n",
              "  <div id=\"df-0ef44ab2-ee40-4d5f-95a6-b36c06e8de3a\">\n",
              "    <div class=\"colab-df-container\">\n",
              "      <div>\n",
              "<style scoped>\n",
              "    .dataframe tbody tr th:only-of-type {\n",
              "        vertical-align: middle;\n",
              "    }\n",
              "\n",
              "    .dataframe tbody tr th {\n",
              "        vertical-align: top;\n",
              "    }\n",
              "\n",
              "    .dataframe thead th {\n",
              "        text-align: right;\n",
              "    }\n",
              "</style>\n",
              "<table border=\"1\" class=\"dataframe\">\n",
              "  <thead>\n",
              "    <tr style=\"text-align: right;\">\n",
              "      <th></th>\n",
              "      <th>Loan_ID</th>\n",
              "      <th>Gender</th>\n",
              "      <th>Married</th>\n",
              "      <th>Dependents</th>\n",
              "      <th>Education</th>\n",
              "      <th>Self_Employed</th>\n",
              "      <th>ApplicantIncome</th>\n",
              "      <th>CoapplicantIncome</th>\n",
              "      <th>LoanAmount</th>\n",
              "      <th>Loan_Amount_Term</th>\n",
              "      <th>Credit_History</th>\n",
              "      <th>Property_Area</th>\n",
              "      <th>Loan Status Predicted</th>\n",
              "    </tr>\n",
              "  </thead>\n",
              "  <tbody>\n",
              "    <tr>\n",
              "      <th>0</th>\n",
              "      <td>LP001015</td>\n",
              "      <td>Male</td>\n",
              "      <td>Yes</td>\n",
              "      <td>0</td>\n",
              "      <td>Graduate</td>\n",
              "      <td>No</td>\n",
              "      <td>5720</td>\n",
              "      <td>0</td>\n",
              "      <td>110.0</td>\n",
              "      <td>360.0</td>\n",
              "      <td>1.0</td>\n",
              "      <td>Urban</td>\n",
              "      <td>Y</td>\n",
              "    </tr>\n",
              "    <tr>\n",
              "      <th>1</th>\n",
              "      <td>LP001022</td>\n",
              "      <td>Male</td>\n",
              "      <td>Yes</td>\n",
              "      <td>1</td>\n",
              "      <td>Graduate</td>\n",
              "      <td>No</td>\n",
              "      <td>3076</td>\n",
              "      <td>1500</td>\n",
              "      <td>126.0</td>\n",
              "      <td>360.0</td>\n",
              "      <td>1.0</td>\n",
              "      <td>Urban</td>\n",
              "      <td>Y</td>\n",
              "    </tr>\n",
              "    <tr>\n",
              "      <th>2</th>\n",
              "      <td>LP001031</td>\n",
              "      <td>Male</td>\n",
              "      <td>Yes</td>\n",
              "      <td>2</td>\n",
              "      <td>Graduate</td>\n",
              "      <td>No</td>\n",
              "      <td>5000</td>\n",
              "      <td>1800</td>\n",
              "      <td>208.0</td>\n",
              "      <td>360.0</td>\n",
              "      <td>1.0</td>\n",
              "      <td>Urban</td>\n",
              "      <td>Y</td>\n",
              "    </tr>\n",
              "    <tr>\n",
              "      <th>3</th>\n",
              "      <td>LP001035</td>\n",
              "      <td>Male</td>\n",
              "      <td>Yes</td>\n",
              "      <td>2</td>\n",
              "      <td>Graduate</td>\n",
              "      <td>No</td>\n",
              "      <td>2340</td>\n",
              "      <td>2546</td>\n",
              "      <td>100.0</td>\n",
              "      <td>360.0</td>\n",
              "      <td>NaN</td>\n",
              "      <td>Urban</td>\n",
              "      <td>Y</td>\n",
              "    </tr>\n",
              "    <tr>\n",
              "      <th>4</th>\n",
              "      <td>LP001051</td>\n",
              "      <td>Male</td>\n",
              "      <td>No</td>\n",
              "      <td>0</td>\n",
              "      <td>Not Graduate</td>\n",
              "      <td>No</td>\n",
              "      <td>3276</td>\n",
              "      <td>0</td>\n",
              "      <td>78.0</td>\n",
              "      <td>360.0</td>\n",
              "      <td>1.0</td>\n",
              "      <td>Urban</td>\n",
              "      <td>N</td>\n",
              "    </tr>\n",
              "  </tbody>\n",
              "</table>\n",
              "</div>\n",
              "      <button class=\"colab-df-convert\" onclick=\"convertToInteractive('df-0ef44ab2-ee40-4d5f-95a6-b36c06e8de3a')\"\n",
              "              title=\"Convert this dataframe to an interactive table.\"\n",
              "              style=\"display:none;\">\n",
              "        \n",
              "  <svg xmlns=\"http://www.w3.org/2000/svg\" height=\"24px\"viewBox=\"0 0 24 24\"\n",
              "       width=\"24px\">\n",
              "    <path d=\"M0 0h24v24H0V0z\" fill=\"none\"/>\n",
              "    <path d=\"M18.56 5.44l.94 2.06.94-2.06 2.06-.94-2.06-.94-.94-2.06-.94 2.06-2.06.94zm-11 1L8.5 8.5l.94-2.06 2.06-.94-2.06-.94L8.5 2.5l-.94 2.06-2.06.94zm10 10l.94 2.06.94-2.06 2.06-.94-2.06-.94-.94-2.06-.94 2.06-2.06.94z\"/><path d=\"M17.41 7.96l-1.37-1.37c-.4-.4-.92-.59-1.43-.59-.52 0-1.04.2-1.43.59L10.3 9.45l-7.72 7.72c-.78.78-.78 2.05 0 2.83L4 21.41c.39.39.9.59 1.41.59.51 0 1.02-.2 1.41-.59l7.78-7.78 2.81-2.81c.8-.78.8-2.07 0-2.86zM5.41 20L4 18.59l7.72-7.72 1.47 1.35L5.41 20z\"/>\n",
              "  </svg>\n",
              "      </button>\n",
              "      \n",
              "  <style>\n",
              "    .colab-df-container {\n",
              "      display:flex;\n",
              "      flex-wrap:wrap;\n",
              "      gap: 12px;\n",
              "    }\n",
              "\n",
              "    .colab-df-convert {\n",
              "      background-color: #E8F0FE;\n",
              "      border: none;\n",
              "      border-radius: 50%;\n",
              "      cursor: pointer;\n",
              "      display: none;\n",
              "      fill: #1967D2;\n",
              "      height: 32px;\n",
              "      padding: 0 0 0 0;\n",
              "      width: 32px;\n",
              "    }\n",
              "\n",
              "    .colab-df-convert:hover {\n",
              "      background-color: #E2EBFA;\n",
              "      box-shadow: 0px 1px 2px rgba(60, 64, 67, 0.3), 0px 1px 3px 1px rgba(60, 64, 67, 0.15);\n",
              "      fill: #174EA6;\n",
              "    }\n",
              "\n",
              "    [theme=dark] .colab-df-convert {\n",
              "      background-color: #3B4455;\n",
              "      fill: #D2E3FC;\n",
              "    }\n",
              "\n",
              "    [theme=dark] .colab-df-convert:hover {\n",
              "      background-color: #434B5C;\n",
              "      box-shadow: 0px 1px 3px 1px rgba(0, 0, 0, 0.15);\n",
              "      filter: drop-shadow(0px 1px 2px rgba(0, 0, 0, 0.3));\n",
              "      fill: #FFFFFF;\n",
              "    }\n",
              "  </style>\n",
              "\n",
              "      <script>\n",
              "        const buttonEl =\n",
              "          document.querySelector('#df-0ef44ab2-ee40-4d5f-95a6-b36c06e8de3a button.colab-df-convert');\n",
              "        buttonEl.style.display =\n",
              "          google.colab.kernel.accessAllowed ? 'block' : 'none';\n",
              "\n",
              "        async function convertToInteractive(key) {\n",
              "          const element = document.querySelector('#df-0ef44ab2-ee40-4d5f-95a6-b36c06e8de3a');\n",
              "          const dataTable =\n",
              "            await google.colab.kernel.invokeFunction('convertToInteractive',\n",
              "                                                     [key], {});\n",
              "          if (!dataTable) return;\n",
              "\n",
              "          const docLinkHtml = 'Like what you see? Visit the ' +\n",
              "            '<a target=\"_blank\" href=https://colab.research.google.com/notebooks/data_table.ipynb>data table notebook</a>'\n",
              "            + ' to learn more about interactive tables.';\n",
              "          element.innerHTML = '';\n",
              "          dataTable['output_type'] = 'display_data';\n",
              "          await google.colab.output.renderOutput(dataTable, element);\n",
              "          const docLink = document.createElement('div');\n",
              "          docLink.innerHTML = docLinkHtml;\n",
              "          element.appendChild(docLink);\n",
              "        }\n",
              "      </script>\n",
              "    </div>\n",
              "  </div>\n",
              "  "
            ]
          },
          "metadata": {},
          "execution_count": 149
        }
      ],
      "source": [
        "test.head()"
      ]
    },
    {
      "cell_type": "code",
      "execution_count": null,
      "metadata": {
        "id": "w8Oki6zLk7HN"
      },
      "outputs": [],
      "source": [
        "#test.to_excel('C:\\\\Users\\\\adity\\\\OneDrive\\\\Documents\\\\Python Scripts\\\\Kaggle\\\\Loan\\\\Predicted Dataset.xlsx')"
      ]
    },
    {
      "cell_type": "code",
      "source": [],
      "metadata": {
        "id": "Fu0cMrsZ_ztA"
      },
      "execution_count": null,
      "outputs": []
    }
  ],
  "metadata": {
    "kernelspec": {
      "display_name": "Python 3",
      "language": "python",
      "name": "python3"
    },
    "language_info": {
      "codemirror_mode": {
        "name": "ipython",
        "version": 3
      },
      "file_extension": ".py",
      "mimetype": "text/x-python",
      "name": "python",
      "nbconvert_exporter": "python",
      "pygments_lexer": "ipython3",
      "version": "3.8.5"
    },
    "colab": {
      "provenance": [],
      "include_colab_link": true
    }
  },
  "nbformat": 4,
  "nbformat_minor": 0
}